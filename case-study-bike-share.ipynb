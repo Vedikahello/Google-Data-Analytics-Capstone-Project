{
 "cells": [
  {
   "cell_type": "markdown",
   "id": "37cbbc9a",
   "metadata": {
    "papermill": {
     "duration": 0.018524,
     "end_time": "2024-04-01T09:44:01.405672",
     "exception": false,
     "start_time": "2024-04-01T09:44:01.387148",
     "status": "completed"
    },
    "tags": []
   },
   "source": [
    "# INTRODUCTION"
   ]
  },
  {
   "cell_type": "markdown",
   "id": "25ff30b4",
   "metadata": {
    "papermill": {
     "duration": 0.014261,
     "end_time": "2024-04-01T09:44:01.434574",
     "exception": false,
     "start_time": "2024-04-01T09:44:01.420313",
     "status": "completed"
    },
    "tags": []
   },
   "source": [
    "This is my capstone project for Google's 'Data Analytics Professional Certificate'.\n",
    "\n",
    "The case study will solve a real-world business problem to be tackled using the 6 Phase Analysis methodology **(Ask, Prepare, Process, Analyze, Share, Act)**.\n",
    "\n",
    "The following is my case study analysis of Bike-Share Comapny; based on historical data of the real Chicago bike-share company, [Divvy](http://divvybikes.com/)."
   ]
  },
  {
   "cell_type": "markdown",
   "id": "ae1c4da4",
   "metadata": {
    "papermill": {
     "duration": 0.014353,
     "end_time": "2024-04-01T09:44:01.463277",
     "exception": false,
     "start_time": "2024-04-01T09:44:01.448924",
     "status": "completed"
    },
    "tags": []
   },
   "source": [
    "# SCENARIO"
   ]
  },
  {
   "cell_type": "markdown",
   "id": "1944e1c9",
   "metadata": {
    "papermill": {
     "duration": 0.016912,
     "end_time": "2024-04-01T09:44:01.494547",
     "exception": false,
     "start_time": "2024-04-01T09:44:01.477635",
     "status": "completed"
    },
    "tags": []
   },
   "source": [
    "You are a junior data analyst working in the marketing analyst team at Cyclistic, a bike-share company in Chicago. The director of marketing believes the company’s future success depends on maximizing the number of annual memberships. Therefore, your team wants to understand how casual riders and annual members use Cyclistic bikes differently. From these insights, your team will design a new marketing strategy to convert casual riders into annual members. But first, Cyclistic executives must approve your recommendations, so they must be backed up with compelling data insights and professional data visualizations.\n",
    "\n",
    "**Characters and teams** \n",
    "\n",
    "● Lily Moreno: The director of marketing and your manager. Moreno is responsible for the development of campaigns and initiatives to promote the bike-share program. These may include email, social media, and other channels.\n",
    "\n",
    "● Cyclistic marketing analytics team: A team of data analysts who are responsible for collecting, analyzing, and reporting data that helps guide Cyclistic marketing strategy. You joined this team six months ago and have been busy learning about Cyclistic’s mission and business goals —as well as how you, as a junior data analyst, can help Cyclistic achieve them. \n",
    "\n",
    "● Cyclistic executive team: The notoriously detail-oriented executive team will decide whether to approve the recommended marketing program.\n",
    "\n",
    "**About the company**\n",
    "\n",
    "In 2016, Cyclistic launched a successful bike-share offering. Since then, the program has grown to a fleet of 5,824 bicycles that are geotracked and locked into a network of 692 stations across Chicago.The bikes can be unlocked from one station and returned to any other station in the system anytime. \n",
    "\n",
    "Until now, Cyclistic’s marketing strategy relied on building general awareness and appealing to broad consumer segments. One approach that helped make these things possible was the fexibility of its pricing plans: single-ride passes, full-day passes, and annual memberships. Customers who purchase single-ride or full-day passes are referred to as casual riders. Customers who purchase annual memberships are Cyclistic members. \n",
    "\n",
    "Cyclistic’s finance analysts have concluded that annual members are much more profitable than casual riders. Although the pricing flexibility helps Cyclistic attract more customers, Moreno believes that maximizing the number of annual members will be key to future growth. Rather than creating a marketing campaign that targets all-new customers, Moreno believes there is a very good chance to convert casual riders in to members. She notes that casual riders are already aware of the Cyclistic program and have chosen Cyclistic for their mobility needs. \n",
    "\n",
    "Moreno has set a clear goal: Design marketing strategies aimed at converting casual riders into annual members. In order to do that, however, the marketing analyst team needs to better understand how annual members and casual riders differ, why casual riders would buy a membership, and how digital media could affect their marketing tactics. Moreno and her team are interested in analyzing the Cyclistic historical bike trip data to identify trends."
   ]
  },
  {
   "cell_type": "markdown",
   "id": "18caa288",
   "metadata": {
    "papermill": {
     "duration": 0.014491,
     "end_time": "2024-04-01T09:44:01.523443",
     "exception": false,
     "start_time": "2024-04-01T09:44:01.508952",
     "status": "completed"
    },
    "tags": []
   },
   "source": [
    "# ASK"
   ]
  },
  {
   "cell_type": "markdown",
   "id": "36ab81f1",
   "metadata": {
    "papermill": {
     "duration": 0.014566,
     "end_time": "2024-04-01T09:44:01.552464",
     "exception": false,
     "start_time": "2024-04-01T09:44:01.537898",
     "status": "completed"
    },
    "tags": []
   },
   "source": [
    "**Three questions will guide the future marketing program:**\n",
    "1. How do annual members and casual riders use Cyclistic bikes differently?\n",
    "2. Why would casual riders buy Cyclistic annual memberships? \n",
    "3. How can Cyclistic use digital media to infuence casual riders to become members?"
   ]
  },
  {
   "cell_type": "markdown",
   "id": "d3ea58a5",
   "metadata": {
    "papermill": {
     "duration": 0.014256,
     "end_time": "2024-04-01T09:44:01.581059",
     "exception": false,
     "start_time": "2024-04-01T09:44:01.566803",
     "status": "completed"
    },
    "tags": []
   },
   "source": [
    "**Guiding Questions**\n",
    "\n",
    "● What is the problem you are trying to solve?\n",
    "  \n",
    "  The main objective is to understand how casual riders and annual members use Cyclistic bikes differently.\n",
    "\n",
    "● How can your insights drive business decisions?\n",
    "\n",
    "  The insights will help the marketing team to increase annual members.\n",
    "\n"
   ]
  },
  {
   "cell_type": "markdown",
   "id": "9e05fd08",
   "metadata": {
    "papermill": {
     "duration": 0.014223,
     "end_time": "2024-04-01T09:44:01.609888",
     "exception": false,
     "start_time": "2024-04-01T09:44:01.595665",
     "status": "completed"
    },
    "tags": []
   },
   "source": [
    "# PREPARE"
   ]
  },
  {
   "cell_type": "markdown",
   "id": "bbc9cea9",
   "metadata": {
    "papermill": {
     "duration": 0.014511,
     "end_time": "2024-04-01T09:44:01.638877",
     "exception": false,
     "start_time": "2024-04-01T09:44:01.624366",
     "status": "completed"
    },
    "tags": []
   },
   "source": [
    "The [dataset](http://divvy-tripdata.s3.amazonaws.com/index.html) used are from Cyclistic’s historical trip data to analyze and identify trends. Their data is stored in csv files, organized and seperated by the month the rides took place. \n",
    "\n",
    "In this case we have to download twelve csv files, one file represent one month of trip data. We will be working with the data available over a 12 month period, in this case from January 2021 to December 2021. "
   ]
  },
  {
   "cell_type": "markdown",
   "id": "f99f996b",
   "metadata": {
    "papermill": {
     "duration": 0.014269,
     "end_time": "2024-04-01T09:44:01.667930",
     "exception": false,
     "start_time": "2024-04-01T09:44:01.653661",
     "status": "completed"
    },
    "tags": []
   },
   "source": [
    "# PROCESS"
   ]
  },
  {
   "cell_type": "markdown",
   "id": "096f2681",
   "metadata": {
    "papermill": {
     "duration": 0.014727,
     "end_time": "2024-04-01T09:44:01.697731",
     "exception": false,
     "start_time": "2024-04-01T09:44:01.683004",
     "status": "completed"
    },
    "tags": []
   },
   "source": [
    "Loading libraries necessary for all steps in the analysis proccess of Bike Share's historical data"
   ]
  },
  {
   "cell_type": "code",
   "execution_count": 1,
   "id": "08794c24",
   "metadata": {
    "_kg_hide-output": true,
    "execution": {
     "iopub.execute_input": "2024-04-01T09:44:01.734285Z",
     "iopub.status.busy": "2024-04-01T09:44:01.730818Z",
     "iopub.status.idle": "2024-04-01T09:44:03.214277Z",
     "shell.execute_reply": "2024-04-01T09:44:03.211694Z"
    },
    "papermill": {
     "duration": 1.50463,
     "end_time": "2024-04-01T09:44:03.217166",
     "exception": false,
     "start_time": "2024-04-01T09:44:01.712536",
     "status": "completed"
    },
    "tags": []
   },
   "outputs": [
    {
     "name": "stderr",
     "output_type": "stream",
     "text": [
      "── \u001b[1mAttaching core tidyverse packages\u001b[22m ──────────────────────── tidyverse 2.0.0 ──\n",
      "\u001b[32m✔\u001b[39m \u001b[34mdplyr    \u001b[39m 1.1.2     \u001b[32m✔\u001b[39m \u001b[34mreadr    \u001b[39m 2.1.4\n",
      "\u001b[32m✔\u001b[39m \u001b[34mforcats  \u001b[39m 1.0.0     \u001b[32m✔\u001b[39m \u001b[34mstringr  \u001b[39m 1.5.0\n",
      "\u001b[32m✔\u001b[39m \u001b[34mggplot2  \u001b[39m 3.4.2     \u001b[32m✔\u001b[39m \u001b[34mtibble   \u001b[39m 3.2.1\n",
      "\u001b[32m✔\u001b[39m \u001b[34mlubridate\u001b[39m 1.9.2     \u001b[32m✔\u001b[39m \u001b[34mtidyr    \u001b[39m 1.3.0\n",
      "\u001b[32m✔\u001b[39m \u001b[34mpurrr    \u001b[39m 1.0.1     \n",
      "── \u001b[1mConflicts\u001b[22m ────────────────────────────────────────── tidyverse_conflicts() ──\n",
      "\u001b[31m✖\u001b[39m \u001b[34mdplyr\u001b[39m::\u001b[32mfilter()\u001b[39m masks \u001b[34mstats\u001b[39m::filter()\n",
      "\u001b[31m✖\u001b[39m \u001b[34mdplyr\u001b[39m::\u001b[32mlag()\u001b[39m    masks \u001b[34mstats\u001b[39m::lag()\n",
      "\u001b[36mℹ\u001b[39m Use the conflicted package (\u001b[3m\u001b[34m<http://conflicted.r-lib.org/>\u001b[39m\u001b[23m) to force all conflicts to become errors\n",
      "\n",
      "Attaching package: ‘janitor’\n",
      "\n",
      "\n",
      "The following objects are masked from ‘package:stats’:\n",
      "\n",
      "    chisq.test, fisher.test\n",
      "\n",
      "\n",
      "\n",
      "Attaching package: ‘hms’\n",
      "\n",
      "\n",
      "The following object is masked from ‘package:lubridate’:\n",
      "\n",
      "    hms\n",
      "\n",
      "\n",
      "\n",
      "Attaching package: ‘data.table’\n",
      "\n",
      "\n",
      "The following objects are masked from ‘package:lubridate’:\n",
      "\n",
      "    hour, isoweek, mday, minute, month, quarter, second, wday, week,\n",
      "    yday, year\n",
      "\n",
      "\n",
      "The following objects are masked from ‘package:dplyr’:\n",
      "\n",
      "    between, first, last\n",
      "\n",
      "\n",
      "The following object is masked from ‘package:purrr’:\n",
      "\n",
      "    transpose\n",
      "\n",
      "\n"
     ]
    }
   ],
   "source": [
    "library(tidyverse)\n",
    "library(janitor)\n",
    "library(lubridate)\n",
    "library(ggplot2)\n",
    "library(hms) #time\n",
    "library(data.table) #exporting data frame"
   ]
  },
  {
   "cell_type": "markdown",
   "id": "12ce2de1",
   "metadata": {
    "papermill": {
     "duration": 0.015785,
     "end_time": "2024-04-01T09:44:03.248649",
     "exception": false,
     "start_time": "2024-04-01T09:44:03.232864",
     "status": "completed"
    },
    "tags": []
   },
   "source": [
    "Importing 12 month datasets (January 2021 to December 2021) into RStudio using read.csv function"
   ]
  },
  {
   "cell_type": "code",
   "execution_count": 2,
   "id": "037d8d30",
   "metadata": {
    "_kg_hide-output": true,
    "execution": {
     "iopub.execute_input": "2024-04-01T09:44:03.320785Z",
     "iopub.status.busy": "2024-04-01T09:44:03.282030Z",
     "iopub.status.idle": "2024-04-01T09:44:41.662642Z",
     "shell.execute_reply": "2024-04-01T09:44:41.660004Z"
    },
    "papermill": {
     "duration": 38.401558,
     "end_time": "2024-04-01T09:44:41.665494",
     "exception": false,
     "start_time": "2024-04-01T09:44:03.263936",
     "status": "completed"
    },
    "tags": []
   },
   "outputs": [
    {
     "name": "stderr",
     "output_type": "stream",
     "text": [
      "\u001b[1mRows: \u001b[22m\u001b[34m83713\u001b[39m \u001b[1mColumns: \u001b[22m\u001b[34m13\u001b[39m\n",
      "\u001b[36m──\u001b[39m \u001b[1mColumn specification\u001b[22m \u001b[36m────────────────────────────────────────────────────────\u001b[39m\n",
      "\u001b[1mDelimiter:\u001b[22m \",\"\n",
      "\u001b[31mchr\u001b[39m (9): ride_id, rideable_type, started_at, ended_at, start_station_name, s...\n",
      "\u001b[32mdbl\u001b[39m (4): start_lat, start_lng, end_lat, end_lng\n",
      "\n",
      "\u001b[36mℹ\u001b[39m Use `spec()` to retrieve the full column specification for this data.\n",
      "\u001b[36mℹ\u001b[39m Specify the column types or set `show_col_types = FALSE` to quiet this message.\n",
      "\u001b[1m\u001b[22mNew names:\n",
      "\u001b[36m•\u001b[39m `` -> `...14`\n",
      "\u001b[36m•\u001b[39m `` -> `...15`\n",
      "\u001b[36m•\u001b[39m `` -> `...16`\n",
      "\u001b[36m•\u001b[39m `` -> `...17`\n",
      "\u001b[36m•\u001b[39m `` -> `...18`\n",
      "\u001b[1mRows: \u001b[22m\u001b[34m49622\u001b[39m \u001b[1mColumns: \u001b[22m\u001b[34m18\u001b[39m\n",
      "\u001b[36m──\u001b[39m \u001b[1mColumn specification\u001b[22m \u001b[36m────────────────────────────────────────────────────────\u001b[39m\n",
      "\u001b[1mDelimiter:\u001b[22m \",\"\n",
      "\u001b[31mchr\u001b[39m (9): ride_id, rideable_type, started_at, ended_at, start_station_name, s...\n",
      "\u001b[32mdbl\u001b[39m (4): start_lat, start_lng, end_lat, end_lng\n",
      "\u001b[33mlgl\u001b[39m (5): ...14, ...15, ...16, ...17, ...18\n",
      "\n",
      "\u001b[36mℹ\u001b[39m Use `spec()` to retrieve the full column specification for this data.\n",
      "\u001b[36mℹ\u001b[39m Specify the column types or set `show_col_types = FALSE` to quiet this message.\n",
      "\u001b[1m\u001b[22mNew names:\n",
      "\u001b[36m•\u001b[39m `` -> `...14`\n",
      "\u001b[36m•\u001b[39m `` -> `...15`\n",
      "\u001b[36m•\u001b[39m `` -> `...16`\n",
      "\u001b[36m•\u001b[39m `` -> `...17`\n",
      "\u001b[36m•\u001b[39m `` -> `...18`\n",
      "\u001b[1mRows: \u001b[22m\u001b[34m228496\u001b[39m \u001b[1mColumns: \u001b[22m\u001b[34m18\u001b[39m\n",
      "\u001b[36m──\u001b[39m \u001b[1mColumn specification\u001b[22m \u001b[36m────────────────────────────────────────────────────────\u001b[39m\n",
      "\u001b[1mDelimiter:\u001b[22m \",\"\n",
      "\u001b[31mchr\u001b[39m (9): ride_id, rideable_type, started_at, ended_at, start_station_name, s...\n",
      "\u001b[32mdbl\u001b[39m (4): start_lat, start_lng, end_lat, end_lng\n",
      "\u001b[33mlgl\u001b[39m (5): ...14, ...15, ...16, ...17, ...18\n",
      "\n",
      "\u001b[36mℹ\u001b[39m Use `spec()` to retrieve the full column specification for this data.\n",
      "\u001b[36mℹ\u001b[39m Specify the column types or set `show_col_types = FALSE` to quiet this message.\n",
      "\u001b[1m\u001b[22mNew names:\n",
      "\u001b[36m•\u001b[39m `` -> `...14`\n",
      "\u001b[36m•\u001b[39m `` -> `...15`\n",
      "\u001b[36m•\u001b[39m `` -> `...16`\n",
      "\u001b[36m•\u001b[39m `` -> `...17`\n",
      "\u001b[36m•\u001b[39m `` -> `...18`\n",
      "\u001b[1mRows: \u001b[22m\u001b[34m337230\u001b[39m \u001b[1mColumns: \u001b[22m\u001b[34m18\u001b[39m\n",
      "\u001b[36m──\u001b[39m \u001b[1mColumn specification\u001b[22m \u001b[36m────────────────────────────────────────────────────────\u001b[39m\n",
      "\u001b[1mDelimiter:\u001b[22m \",\"\n",
      "\u001b[31mchr\u001b[39m (9): ride_id, rideable_type, started_at, ended_at, start_station_name, s...\n",
      "\u001b[32mdbl\u001b[39m (4): start_lat, start_lng, end_lat, end_lng\n",
      "\u001b[33mlgl\u001b[39m (5): ...14, ...15, ...16, ...17, ...18\n",
      "\n",
      "\u001b[36mℹ\u001b[39m Use `spec()` to retrieve the full column specification for this data.\n",
      "\u001b[36mℹ\u001b[39m Specify the column types or set `show_col_types = FALSE` to quiet this message.\n",
      "\u001b[1m\u001b[22mNew names:\n",
      "\u001b[36m•\u001b[39m `` -> `...14`\n",
      "\u001b[36m•\u001b[39m `` -> `...15`\n",
      "\u001b[36m•\u001b[39m `` -> `...16`\n",
      "\u001b[36m•\u001b[39m `` -> `...17`\n",
      "\u001b[36m•\u001b[39m `` -> `...18`\n",
      "\u001b[1mRows: \u001b[22m\u001b[34m450994\u001b[39m \u001b[1mColumns: \u001b[22m\u001b[34m18\u001b[39m\n",
      "\u001b[36m──\u001b[39m \u001b[1mColumn specification\u001b[22m \u001b[36m────────────────────────────────────────────────────────\u001b[39m\n",
      "\u001b[1mDelimiter:\u001b[22m \",\"\n",
      "\u001b[31mchr\u001b[39m (9): ride_id, rideable_type, started_at, ended_at, start_station_name, s...\n",
      "\u001b[32mdbl\u001b[39m (4): start_lat, start_lng, end_lat, end_lng\n",
      "\u001b[33mlgl\u001b[39m (5): ...14, ...15, ...16, ...17, ...18\n",
      "\n",
      "\u001b[36mℹ\u001b[39m Use `spec()` to retrieve the full column specification for this data.\n",
      "\u001b[36mℹ\u001b[39m Specify the column types or set `show_col_types = FALSE` to quiet this message.\n",
      "\u001b[1m\u001b[22mNew names:\n",
      "\u001b[36m•\u001b[39m `` -> `...14`\n",
      "\u001b[36m•\u001b[39m `` -> `...15`\n",
      "\u001b[36m•\u001b[39m `` -> `...16`\n",
      "\u001b[36m•\u001b[39m `` -> `...17`\n",
      "\u001b[36m•\u001b[39m `` -> `...18`\n",
      "\u001b[1mRows: \u001b[22m\u001b[34m609934\u001b[39m \u001b[1mColumns: \u001b[22m\u001b[34m18\u001b[39m\n",
      "\u001b[36m──\u001b[39m \u001b[1mColumn specification\u001b[22m \u001b[36m────────────────────────────────────────────────────────\u001b[39m\n",
      "\u001b[1mDelimiter:\u001b[22m \",\"\n",
      "\u001b[31mchr\u001b[39m (9): ride_id, rideable_type, started_at, ended_at, start_station_name, s...\n",
      "\u001b[32mdbl\u001b[39m (4): start_lat, start_lng, end_lat, end_lng\n",
      "\u001b[33mlgl\u001b[39m (5): ...14, ...15, ...16, ...17, ...18\n",
      "\n",
      "\u001b[36mℹ\u001b[39m Use `spec()` to retrieve the full column specification for this data.\n",
      "\u001b[36mℹ\u001b[39m Specify the column types or set `show_col_types = FALSE` to quiet this message.\n",
      "\u001b[1m\u001b[22mNew names:\n",
      "\u001b[36m•\u001b[39m `` -> `...14`\n",
      "\u001b[36m•\u001b[39m `` -> `...15`\n",
      "\u001b[36m•\u001b[39m `` -> `...16`\n",
      "\u001b[36m•\u001b[39m `` -> `...17`\n",
      "\u001b[36m•\u001b[39m `` -> `...18`\n",
      "\u001b[1mRows: \u001b[22m\u001b[34m693503\u001b[39m \u001b[1mColumns: \u001b[22m\u001b[34m18\u001b[39m\n",
      "\u001b[36m──\u001b[39m \u001b[1mColumn specification\u001b[22m \u001b[36m────────────────────────────────────────────────────────\u001b[39m\n",
      "\u001b[1mDelimiter:\u001b[22m \",\"\n",
      "\u001b[31mchr\u001b[39m (9): ride_id, rideable_type, started_at, ended_at, start_station_name, s...\n",
      "\u001b[32mdbl\u001b[39m (4): start_lat, start_lng, end_lat, end_lng\n",
      "\u001b[33mlgl\u001b[39m (5): ...14, ...15, ...16, ...17, ...18\n",
      "\n",
      "\u001b[36mℹ\u001b[39m Use `spec()` to retrieve the full column specification for this data.\n",
      "\u001b[36mℹ\u001b[39m Specify the column types or set `show_col_types = FALSE` to quiet this message.\n",
      "\u001b[1m\u001b[22mNew names:\n",
      "\u001b[36m•\u001b[39m `` -> `...14`\n",
      "\u001b[36m•\u001b[39m `` -> `...15`\n",
      "\u001b[36m•\u001b[39m `` -> `...16`\n",
      "\u001b[36m•\u001b[39m `` -> `...17`\n",
      "\u001b[36m•\u001b[39m `` -> `...18`\n",
      "\u001b[1mRows: \u001b[22m\u001b[34m675599\u001b[39m \u001b[1mColumns: \u001b[22m\u001b[34m18\u001b[39m\n",
      "\u001b[36m──\u001b[39m \u001b[1mColumn specification\u001b[22m \u001b[36m────────────────────────────────────────────────────────\u001b[39m\n",
      "\u001b[1mDelimiter:\u001b[22m \",\"\n",
      "\u001b[31mchr\u001b[39m (9): ride_id, rideable_type, started_at, ended_at, start_station_name, s...\n",
      "\u001b[32mdbl\u001b[39m (4): start_lat, start_lng, end_lat, end_lng\n",
      "\u001b[33mlgl\u001b[39m (5): ...14, ...15, ...16, ...17, ...18\n",
      "\n",
      "\u001b[36mℹ\u001b[39m Use `spec()` to retrieve the full column specification for this data.\n",
      "\u001b[36mℹ\u001b[39m Specify the column types or set `show_col_types = FALSE` to quiet this message.\n",
      "\u001b[1m\u001b[22mNew names:\n",
      "\u001b[36m•\u001b[39m `` -> `...14`\n",
      "\u001b[36m•\u001b[39m `` -> `...15`\n",
      "\u001b[36m•\u001b[39m `` -> `...16`\n",
      "\u001b[36m•\u001b[39m `` -> `...17`\n",
      "\u001b[36m•\u001b[39m `` -> `...18`\n",
      "\u001b[1mRows: \u001b[22m\u001b[34m622229\u001b[39m \u001b[1mColumns: \u001b[22m\u001b[34m18\u001b[39m\n",
      "\u001b[36m──\u001b[39m \u001b[1mColumn specification\u001b[22m \u001b[36m────────────────────────────────────────────────────────\u001b[39m\n",
      "\u001b[1mDelimiter:\u001b[22m \",\"\n",
      "\u001b[31mchr\u001b[39m (9): ride_id, rideable_type, started_at, ended_at, start_station_name, s...\n",
      "\u001b[32mdbl\u001b[39m (4): start_lat, start_lng, end_lat, end_lng\n",
      "\u001b[33mlgl\u001b[39m (5): ...14, ...15, ...16, ...17, ...18\n",
      "\n",
      "\u001b[36mℹ\u001b[39m Use `spec()` to retrieve the full column specification for this data.\n",
      "\u001b[36mℹ\u001b[39m Specify the column types or set `show_col_types = FALSE` to quiet this message.\n",
      "\u001b[1m\u001b[22mNew names:\n",
      "\u001b[36m•\u001b[39m `` -> `...14`\n",
      "\u001b[36m•\u001b[39m `` -> `...15`\n",
      "\u001b[36m•\u001b[39m `` -> `...16`\n",
      "\u001b[36m•\u001b[39m `` -> `...17`\n",
      "\u001b[36m•\u001b[39m `` -> `...18`\n",
      "\u001b[1mRows: \u001b[22m\u001b[34m479448\u001b[39m \u001b[1mColumns: \u001b[22m\u001b[34m18\u001b[39m\n",
      "\u001b[36m──\u001b[39m \u001b[1mColumn specification\u001b[22m \u001b[36m────────────────────────────────────────────────────────\u001b[39m\n",
      "\u001b[1mDelimiter:\u001b[22m \",\"\n",
      "\u001b[31mchr\u001b[39m (9): ride_id, rideable_type, started_at, ended_at, start_station_name, s...\n",
      "\u001b[32mdbl\u001b[39m (4): start_lat, start_lng, end_lat, end_lng\n",
      "\u001b[33mlgl\u001b[39m (5): ...14, ...15, ...16, ...17, ...18\n",
      "\n",
      "\u001b[36mℹ\u001b[39m Use `spec()` to retrieve the full column specification for this data.\n",
      "\u001b[36mℹ\u001b[39m Specify the column types or set `show_col_types = FALSE` to quiet this message.\n",
      "\u001b[1m\u001b[22mNew names:\n",
      "\u001b[36m•\u001b[39m `` -> `...14`\n",
      "\u001b[36m•\u001b[39m `` -> `...15`\n",
      "\u001b[36m•\u001b[39m `` -> `...16`\n",
      "\u001b[36m•\u001b[39m `` -> `...17`\n",
      "\u001b[36m•\u001b[39m `` -> `...18`\n",
      "\u001b[1mRows: \u001b[22m\u001b[34m256711\u001b[39m \u001b[1mColumns: \u001b[22m\u001b[34m18\u001b[39m\n",
      "\u001b[36m──\u001b[39m \u001b[1mColumn specification\u001b[22m \u001b[36m────────────────────────────────────────────────────────\u001b[39m\n",
      "\u001b[1mDelimiter:\u001b[22m \",\"\n",
      "\u001b[31mchr\u001b[39m (9): ride_id, rideable_type, started_at, ended_at, start_station_name, s...\n",
      "\u001b[32mdbl\u001b[39m (4): start_lat, start_lng, end_lat, end_lng\n",
      "\u001b[33mlgl\u001b[39m (5): ...14, ...15, ...16, ...17, ...18\n",
      "\n",
      "\u001b[36mℹ\u001b[39m Use `spec()` to retrieve the full column specification for this data.\n",
      "\u001b[36mℹ\u001b[39m Specify the column types or set `show_col_types = FALSE` to quiet this message.\n",
      "\u001b[1m\u001b[22mNew names:\n",
      "\u001b[36m•\u001b[39m `` -> `...14`\n",
      "\u001b[36m•\u001b[39m `` -> `...15`\n",
      "\u001b[36m•\u001b[39m `` -> `...16`\n",
      "\u001b[36m•\u001b[39m `` -> `...17`\n",
      "\u001b[36m•\u001b[39m `` -> `...18`\n",
      "\u001b[1mRows: \u001b[22m\u001b[34m176801\u001b[39m \u001b[1mColumns: \u001b[22m\u001b[34m18\u001b[39m\n",
      "\u001b[36m──\u001b[39m \u001b[1mColumn specification\u001b[22m \u001b[36m────────────────────────────────────────────────────────\u001b[39m\n",
      "\u001b[1mDelimiter:\u001b[22m \",\"\n",
      "\u001b[31mchr\u001b[39m (9): ride_id, rideable_type, started_at, ended_at, start_station_name, s...\n",
      "\u001b[32mdbl\u001b[39m (4): start_lat, start_lng, end_lat, end_lng\n",
      "\u001b[33mlgl\u001b[39m (5): ...14, ...15, ...16, ...17, ...18\n",
      "\n",
      "\u001b[36mℹ\u001b[39m Use `spec()` to retrieve the full column specification for this data.\n",
      "\u001b[36mℹ\u001b[39m Specify the column types or set `show_col_types = FALSE` to quiet this message.\n"
     ]
    }
   ],
   "source": [
    "#Importing the CSV files\n",
    "jan01_df <- read_csv(\"../input/csv-files/202101-divvy-tripdata.csv\") \n",
    "feb02_df <- read_csv(\"../input/csv-files/202102-divvy-tripdata.csv\") \n",
    "mar03_df <- read_csv(\"../input/csv-files/202103-divvy-tripdata.csv\")\n",
    "apr04_df <- read_csv(\"../input/csv-files/202104-divvy-tripdata.csv\")\n",
    "may05_df <- read_csv(\"../input/csv-files/202105-divvy-tripdata.csv\")\n",
    "jun06_df <- read_csv(\"../input/csv-files/202106-divvy-tripdata.csv\")\n",
    "jul07_df <- read_csv(\"../input/csv-files/202107-divvy-tripdata.csv\")\n",
    "aug08_df <- read_csv(\"../input/csv-files/202108-divvy-tripdata.csv\")\n",
    "sep09_df <- read_csv(\"../input/csv-files/202109-divvy-tripdata.csv\")\n",
    "oct10_df <- read_csv(\"../input/csv-files/202110-divvy-tripdata.csv\")\n",
    "nov11_df <- read_csv(\"../input/csv-files/202111-divvy-tripdata.csv\")\n",
    "dec12_df <- read_csv(\"../input/csv-files/202112-divvy-tripdata.csv\")"
   ]
  },
  {
   "cell_type": "markdown",
   "id": "967a12ed",
   "metadata": {
    "papermill": {
     "duration": 0.019952,
     "end_time": "2024-04-01T09:44:41.705643",
     "exception": false,
     "start_time": "2024-04-01T09:44:41.685691",
     "status": "completed"
    },
    "tags": []
   },
   "source": [
    "Examining the individual datasets"
   ]
  },
  {
   "cell_type": "code",
   "execution_count": 3,
   "id": "729c0e9a",
   "metadata": {
    "execution": {
     "iopub.execute_input": "2024-04-01T09:44:41.751050Z",
     "iopub.status.busy": "2024-04-01T09:44:41.748469Z",
     "iopub.status.idle": "2024-04-01T09:44:42.402150Z",
     "shell.execute_reply": "2024-04-01T09:44:42.398465Z"
    },
    "papermill": {
     "duration": 0.682717,
     "end_time": "2024-04-01T09:44:42.408197",
     "exception": false,
     "start_time": "2024-04-01T09:44:41.725480",
     "status": "completed"
    },
    "tags": []
   },
   "outputs": [
    {
     "name": "stdout",
     "output_type": "stream",
     "text": [
      "spc_tbl_ [83,713 × 13] (S3: spec_tbl_df/tbl_df/tbl/data.frame)\n",
      " $ ride_id           : chr [1:83713] \"B9F73448DFBE0D45\" \"457C7F4B5D3DA135\" \"57C750326F9FDABE\" \"4D518C65E338D070\" ...\n",
      " $ rideable_type     : chr [1:83713] \"classic_bike\" \"electric_bike\" \"electric_bike\" \"electric_bike\" ...\n",
      " $ started_at        : chr [1:83713] \"24-01-2021 19:15\" \"23-01-2021 12:57\" \"09-01-2021 15:28\" \"09-01-2021 15:28\" ...\n",
      " $ ended_at          : chr [1:83713] \"24-01-2021 19:22\" \"23-01-2021 13:02\" \"09-01-2021 15:37\" \"09-01-2021 15:37\" ...\n",
      " $ start_station_name: chr [1:83713] \"California Ave & Cortez St\" \"California Ave & Cortez St\" \"California Ave & Cortez St\" \"California Ave & Cortez St\" ...\n",
      " $ start_station_id  : chr [1:83713] \"17660\" \"17660\" \"17660\" \"17660\" ...\n",
      " $ end_station_name  : chr [1:83713] \"Wood St & Augusta Blvd\" \"California Ave & North Ave\" \"Wood St & Augusta Blvd\" \"Wood St & Augusta Blvd\" ...\n",
      " $ end_station_id    : chr [1:83713] \"657\" \"13258\" \"657\" \"657\" ...\n",
      " $ start_lat         : num [1:83713] 41.9 41.9 41.9 41.9 41.9 ...\n",
      " $ start_lng         : num [1:83713] -87.7 -87.7 -87.7 -87.7 -87.7 ...\n",
      " $ end_lat           : num [1:83713] 41.9 41.9 41.9 41.9 41.9 ...\n",
      " $ end_lng           : num [1:83713] -87.7 -87.7 -87.7 -87.7 -87.7 ...\n",
      " $ member_casual     : chr [1:83713] \"member\" \"member\" \"casual\" \"casual\" ...\n",
      " - attr(*, \"spec\")=\n",
      "  .. cols(\n",
      "  ..   ride_id = \u001b[31mcol_character()\u001b[39m,\n",
      "  ..   rideable_type = \u001b[31mcol_character()\u001b[39m,\n",
      "  ..   started_at = \u001b[31mcol_character()\u001b[39m,\n",
      "  ..   ended_at = \u001b[31mcol_character()\u001b[39m,\n",
      "  ..   start_station_name = \u001b[31mcol_character()\u001b[39m,\n",
      "  ..   start_station_id = \u001b[31mcol_character()\u001b[39m,\n",
      "  ..   end_station_name = \u001b[31mcol_character()\u001b[39m,\n",
      "  ..   end_station_id = \u001b[31mcol_character()\u001b[39m,\n",
      "  ..   start_lat = \u001b[32mcol_double()\u001b[39m,\n",
      "  ..   start_lng = \u001b[32mcol_double()\u001b[39m,\n",
      "  ..   end_lat = \u001b[32mcol_double()\u001b[39m,\n",
      "  ..   end_lng = \u001b[32mcol_double()\u001b[39m,\n",
      "  ..   member_casual = \u001b[31mcol_character()\u001b[39m\n",
      "  .. )\n",
      " - attr(*, \"problems\")=<externalptr> \n",
      "spc_tbl_ [49,622 × 18] (S3: spec_tbl_df/tbl_df/tbl/data.frame)\n",
      " $ ride_id           : chr [1:49622] \"89E7AA6C29227EFF\" \"0FEFDE2603568365\" \"E6159D746B2DBB91\" \"B32D3199F1C2E75B\" ...\n",
      " $ rideable_type     : chr [1:49622] \"classic_bike\" \"classic_bike\" \"electric_bike\" \"classic_bike\" ...\n",
      " $ started_at        : chr [1:49622] \"12-02-2021 16:14\" \"14-02-2021 17:52\" \"09-02-2021 19:10\" \"02-02-2021 17:49\" ...\n",
      " $ ended_at          : chr [1:49622] \"12-02-2021 16:21\" \"14-02-2021 18:12\" \"09-02-2021 19:19\" \"02-02-2021 17:54\" ...\n",
      " $ start_station_name: chr [1:49622] \"Glenwood Ave & Touhy Ave\" \"Glenwood Ave & Touhy Ave\" \"Clark St & Lake St\" \"Wood St & Chicago Ave\" ...\n",
      " $ start_station_id  : chr [1:49622] \"525\" \"525\" \"KA1503000012\" \"637\" ...\n",
      " $ end_station_name  : chr [1:49622] \"Sheridan Rd & Columbia Ave\" \"Bosworth Ave & Howard St\" \"State St & Randolph St\" \"Honore St & Division St\" ...\n",
      " $ end_station_id    : chr [1:49622] \"660\" \"16806\" \"TA1305000029\" \"TA1305000034\" ...\n",
      " $ start_lat         : num [1:49622] 42 42 41.9 41.9 41.8 ...\n",
      " $ start_lng         : num [1:49622] -87.7 -87.7 -87.6 -87.7 -87.6 ...\n",
      " $ end_lat           : num [1:49622] 42 42 41.9 41.9 41.8 ...\n",
      " $ end_lng           : num [1:49622] -87.7 -87.7 -87.6 -87.7 -87.6 ...\n",
      " $ member_casual     : chr [1:49622] \"member\" \"casual\" \"member\" \"member\" ...\n",
      " $ ...14             : logi [1:49622] NA NA NA NA NA NA ...\n",
      " $ ...15             : logi [1:49622] NA NA NA NA NA NA ...\n",
      " $ ...16             : logi [1:49622] NA NA NA NA NA NA ...\n",
      " $ ...17             : logi [1:49622] NA NA NA NA NA NA ...\n",
      " $ ...18             : logi [1:49622] NA NA NA NA NA NA ...\n",
      " - attr(*, \"spec\")=\n",
      "  .. cols(\n",
      "  ..   ride_id = \u001b[31mcol_character()\u001b[39m,\n",
      "  ..   rideable_type = \u001b[31mcol_character()\u001b[39m,\n",
      "  ..   started_at = \u001b[31mcol_character()\u001b[39m,\n",
      "  ..   ended_at = \u001b[31mcol_character()\u001b[39m,\n",
      "  ..   start_station_name = \u001b[31mcol_character()\u001b[39m,\n",
      "  ..   start_station_id = \u001b[31mcol_character()\u001b[39m,\n",
      "  ..   end_station_name = \u001b[31mcol_character()\u001b[39m,\n",
      "  ..   end_station_id = \u001b[31mcol_character()\u001b[39m,\n",
      "  ..   start_lat = \u001b[32mcol_double()\u001b[39m,\n",
      "  ..   start_lng = \u001b[32mcol_double()\u001b[39m,\n",
      "  ..   end_lat = \u001b[32mcol_double()\u001b[39m,\n",
      "  ..   end_lng = \u001b[32mcol_double()\u001b[39m,\n",
      "  ..   member_casual = \u001b[31mcol_character()\u001b[39m,\n",
      "  ..   ...14 = \u001b[33mcol_logical()\u001b[39m,\n",
      "  ..   ...15 = \u001b[33mcol_logical()\u001b[39m,\n",
      "  ..   ...16 = \u001b[33mcol_logical()\u001b[39m,\n",
      "  ..   ...17 = \u001b[33mcol_logical()\u001b[39m,\n",
      "  ..   ...18 = \u001b[33mcol_logical()\u001b[39m\n",
      "  .. )\n",
      " - attr(*, \"problems\")=<externalptr> \n",
      "spc_tbl_ [228,496 × 18] (S3: spec_tbl_df/tbl_df/tbl/data.frame)\n",
      " $ ride_id           : chr [1:228496] \"CFA86D4455AA1030\" \"30D9DC61227D1AF3\" \"846D87A15682A284\" \"994D05AA75A168F2\" ...\n",
      " $ rideable_type     : chr [1:228496] \"classic_bike\" \"classic_bike\" \"classic_bike\" \"classic_bike\" ...\n",
      " $ started_at        : chr [1:228496] \"16-03-2021 08:32\" \"28-03-2021 01:26\" \"11-03-2021 21:17\" \"11-03-2021 13:26\" ...\n",
      " $ ended_at          : chr [1:228496] \"16-03-2021 08:36\" \"28-03-2021 01:36\" \"11-03-2021 21:33\" \"11-03-2021 13:55\" ...\n",
      " $ start_station_name: chr [1:228496] \"Humboldt Blvd & Armitage Ave\" \"Humboldt Blvd & Armitage Ave\" \"Shields Ave & 28th Pl\" \"Winthrop Ave & Lawrence Ave\" ...\n",
      " $ start_station_id  : chr [1:228496] \"15651\" \"15651\" \"15443\" \"TA1308000021\" ...\n",
      " $ end_station_name  : chr [1:228496] \"Stave St & Armitage Ave\" \"Central Park Ave & Bloomingdale Ave\" \"Halsted St & 35th St\" \"Broadway & Sheridan Rd\" ...\n",
      " $ end_station_id    : chr [1:228496] \"13266\" \"18017\" \"TA1308000043\" \"13323\" ...\n",
      " $ start_lat         : num [1:228496] 41.9 41.9 41.8 42 42 ...\n",
      " $ start_lng         : num [1:228496] -87.7 -87.7 -87.6 -87.7 -87.7 ...\n",
      " $ end_lat           : num [1:228496] 41.9 41.9 41.8 42 42.1 ...\n",
      " $ end_lng           : num [1:228496] -87.7 -87.7 -87.6 -87.6 -87.7 ...\n",
      " $ member_casual     : chr [1:228496] \"casual\" \"casual\" \"casual\" \"casual\" ...\n",
      " $ ...14             : logi [1:228496] NA NA NA NA NA NA ...\n",
      " $ ...15             : logi [1:228496] NA NA NA NA NA NA ...\n",
      " $ ...16             : logi [1:228496] NA NA NA NA NA NA ...\n",
      " $ ...17             : logi [1:228496] NA NA NA NA NA NA ...\n",
      " $ ...18             : logi [1:228496] NA NA NA NA NA NA ...\n",
      " - attr(*, \"spec\")=\n",
      "  .. cols(\n",
      "  ..   ride_id = \u001b[31mcol_character()\u001b[39m,\n",
      "  ..   rideable_type = \u001b[31mcol_character()\u001b[39m,\n",
      "  ..   started_at = \u001b[31mcol_character()\u001b[39m,\n",
      "  ..   ended_at = \u001b[31mcol_character()\u001b[39m,\n",
      "  ..   start_station_name = \u001b[31mcol_character()\u001b[39m,\n",
      "  ..   start_station_id = \u001b[31mcol_character()\u001b[39m,\n",
      "  ..   end_station_name = \u001b[31mcol_character()\u001b[39m,\n",
      "  ..   end_station_id = \u001b[31mcol_character()\u001b[39m,\n",
      "  ..   start_lat = \u001b[32mcol_double()\u001b[39m,\n",
      "  ..   start_lng = \u001b[32mcol_double()\u001b[39m,\n",
      "  ..   end_lat = \u001b[32mcol_double()\u001b[39m,\n",
      "  ..   end_lng = \u001b[32mcol_double()\u001b[39m,\n",
      "  ..   member_casual = \u001b[31mcol_character()\u001b[39m,\n",
      "  ..   ...14 = \u001b[33mcol_logical()\u001b[39m,\n",
      "  ..   ...15 = \u001b[33mcol_logical()\u001b[39m,\n",
      "  ..   ...16 = \u001b[33mcol_logical()\u001b[39m,\n",
      "  ..   ...17 = \u001b[33mcol_logical()\u001b[39m,\n",
      "  ..   ...18 = \u001b[33mcol_logical()\u001b[39m\n",
      "  .. )\n",
      " - attr(*, \"problems\")=<externalptr> \n",
      "spc_tbl_ [337,230 × 18] (S3: spec_tbl_df/tbl_df/tbl/data.frame)\n",
      " $ ride_id           : chr [1:337230] \"6C992BD37A98A63F\" \"1E0145613A209000\" \"E498E15508A80BAD\" \"1887262AD101C604\" ...\n",
      " $ rideable_type     : chr [1:337230] \"classic_bike\" \"docked_bike\" \"docked_bike\" \"classic_bike\" ...\n",
      " $ started_at        : chr [1:337230] \"12-04-2021 18:25\" \"27-04-2021 17:27\" \"03-04-2021 12:42\" \"17-04-2021 09:17\" ...\n",
      " $ ended_at          : chr [1:337230] \"12-04-2021 18:56\" \"27-04-2021 18:31\" \"07-04-2021 11:40\" \"17-04-2021 09:42\" ...\n",
      " $ start_station_name: chr [1:337230] \"State St & Pearson St\" \"Dorchester Ave & 49th St\" \"Loomis Blvd & 84th St\" \"Honore St & Division St\" ...\n",
      " $ start_station_id  : chr [1:337230] \"TA1307000061\" \"KA1503000069\" \"20121\" \"TA1305000034\" ...\n",
      " $ end_station_name  : chr [1:337230] \"Southport Ave & Waveland Ave\" \"Dorchester Ave & 49th St\" \"Loomis Blvd & 84th St\" \"Southport Ave & Waveland Ave\" ...\n",
      " $ end_station_id    : chr [1:337230] \"13235\" \"KA1503000069\" \"20121\" \"13235\" ...\n",
      " $ start_lat         : num [1:337230] 41.9 41.8 41.7 41.9 41.7 ...\n",
      " $ start_lng         : num [1:337230] -87.6 -87.6 -87.7 -87.7 -87.7 ...\n",
      " $ end_lat           : num [1:337230] 41.9 41.8 41.7 41.9 41.7 ...\n",
      " $ end_lng           : num [1:337230] -87.7 -87.6 -87.7 -87.7 -87.7 ...\n",
      " $ member_casual     : chr [1:337230] \"member\" \"casual\" \"casual\" \"member\" ...\n",
      " $ ...14             : logi [1:337230] NA NA NA NA NA NA ...\n",
      " $ ...15             : logi [1:337230] NA NA NA NA NA NA ...\n",
      " $ ...16             : logi [1:337230] NA NA NA NA NA NA ...\n",
      " $ ...17             : logi [1:337230] NA NA NA NA NA NA ...\n",
      " $ ...18             : logi [1:337230] NA NA NA NA NA NA ...\n",
      " - attr(*, \"spec\")=\n",
      "  .. cols(\n",
      "  ..   ride_id = \u001b[31mcol_character()\u001b[39m,\n",
      "  ..   rideable_type = \u001b[31mcol_character()\u001b[39m,\n",
      "  ..   started_at = \u001b[31mcol_character()\u001b[39m,\n",
      "  ..   ended_at = \u001b[31mcol_character()\u001b[39m,\n",
      "  ..   start_station_name = \u001b[31mcol_character()\u001b[39m,\n",
      "  ..   start_station_id = \u001b[31mcol_character()\u001b[39m,\n",
      "  ..   end_station_name = \u001b[31mcol_character()\u001b[39m,\n",
      "  ..   end_station_id = \u001b[31mcol_character()\u001b[39m,\n",
      "  ..   start_lat = \u001b[32mcol_double()\u001b[39m,\n",
      "  ..   start_lng = \u001b[32mcol_double()\u001b[39m,\n",
      "  ..   end_lat = \u001b[32mcol_double()\u001b[39m,\n",
      "  ..   end_lng = \u001b[32mcol_double()\u001b[39m,\n",
      "  ..   member_casual = \u001b[31mcol_character()\u001b[39m,\n",
      "  ..   ...14 = \u001b[33mcol_logical()\u001b[39m,\n",
      "  ..   ...15 = \u001b[33mcol_logical()\u001b[39m,\n",
      "  ..   ...16 = \u001b[33mcol_logical()\u001b[39m,\n",
      "  ..   ...17 = \u001b[33mcol_logical()\u001b[39m,\n",
      "  ..   ...18 = \u001b[33mcol_logical()\u001b[39m\n",
      "  .. )\n",
      " - attr(*, \"problems\")=<externalptr> \n",
      "spc_tbl_ [450,994 × 18] (S3: spec_tbl_df/tbl_df/tbl/data.frame)\n",
      " $ ride_id           : chr [1:450994] \"0F3AE375DEC608D9\" \"43E916C72D4C77B3\" \"2AAB47362E76AC7F\" \"344011882FBBB8BD\" ...\n",
      " $ rideable_type     : chr [1:450994] \"classic_bike\" \"electric_bike\" \"electric_bike\" \"classic_bike\" ...\n",
      " $ started_at        : chr [1:450994] \"02-05-2021 08:21\" \"01-05-2021 22:15\" \"31-05-2021 00:50\" \"31-05-2021 07:35\" ...\n",
      " $ ended_at          : chr [1:450994] \"02-05-2021 09:20\" \"01-05-2021 22:51\" \"31-05-2021 00:56\" \"31-05-2021 08:33\" ...\n",
      " $ start_station_name: chr [1:450994] \"Michigan Ave & Oak St\" \"Michigan Ave & Oak St\" \"Clark St & Grace St\" \"Sheridan Rd & Noyes St (NU)\" ...\n",
      " $ start_station_id  : chr [1:450994] \"13042\" \"13042\" \"TA1307000127\" \"604\" ...\n",
      " $ end_station_name  : chr [1:450994] \"Michigan Ave & Oak St\" \"Michigan Ave & Oak St\" \"Clark St & Leland Ave\" \"Sheridan Rd & Noyes St (NU)\" ...\n",
      " $ end_station_id    : chr [1:450994] \"13042\" \"13042\" \"TA1309000014\" \"604\" ...\n",
      " $ start_lat         : num [1:450994] 41.9 41.9 42 42.1 41.9 ...\n",
      " $ start_lng         : num [1:450994] -87.6 -87.6 -87.7 -87.7 -87.6 ...\n",
      " $ end_lat           : num [1:450994] 41.9 41.9 42 42.1 41.9 ...\n",
      " $ end_lng           : num [1:450994] -87.6 -87.6 -87.7 -87.7 -87.6 ...\n",
      " $ member_casual     : chr [1:450994] \"casual\" \"casual\" \"casual\" \"casual\" ...\n",
      " $ ...14             : logi [1:450994] NA NA NA NA NA NA ...\n",
      " $ ...15             : logi [1:450994] NA NA NA NA NA NA ...\n",
      " $ ...16             : logi [1:450994] NA NA NA NA NA NA ...\n",
      " $ ...17             : logi [1:450994] NA NA NA NA NA NA ...\n",
      " $ ...18             : logi [1:450994] NA NA NA NA NA NA ...\n",
      " - attr(*, \"spec\")=\n",
      "  .. cols(\n",
      "  ..   ride_id = \u001b[31mcol_character()\u001b[39m,\n",
      "  ..   rideable_type = \u001b[31mcol_character()\u001b[39m,\n",
      "  ..   started_at = \u001b[31mcol_character()\u001b[39m,\n",
      "  ..   ended_at = \u001b[31mcol_character()\u001b[39m,\n",
      "  ..   start_station_name = \u001b[31mcol_character()\u001b[39m,\n",
      "  ..   start_station_id = \u001b[31mcol_character()\u001b[39m,\n",
      "  ..   end_station_name = \u001b[31mcol_character()\u001b[39m,\n",
      "  ..   end_station_id = \u001b[31mcol_character()\u001b[39m,\n",
      "  ..   start_lat = \u001b[32mcol_double()\u001b[39m,\n",
      "  ..   start_lng = \u001b[32mcol_double()\u001b[39m,\n",
      "  ..   end_lat = \u001b[32mcol_double()\u001b[39m,\n",
      "  ..   end_lng = \u001b[32mcol_double()\u001b[39m,\n",
      "  ..   member_casual = \u001b[31mcol_character()\u001b[39m,\n",
      "  ..   ...14 = \u001b[33mcol_logical()\u001b[39m,\n",
      "  ..   ...15 = \u001b[33mcol_logical()\u001b[39m,\n",
      "  ..   ...16 = \u001b[33mcol_logical()\u001b[39m,\n",
      "  ..   ...17 = \u001b[33mcol_logical()\u001b[39m,\n",
      "  ..   ...18 = \u001b[33mcol_logical()\u001b[39m\n",
      "  .. )\n",
      " - attr(*, \"problems\")=<externalptr> \n",
      "spc_tbl_ [609,934 × 18] (S3: spec_tbl_df/tbl_df/tbl/data.frame)\n",
      " $ ride_id           : chr [1:609934] \"0D904FEC5F84A538\" \"C4185F300D6B552B\" \"60F97090AC85F55E\" \"FBC7B1F0160AA304\" ...\n",
      " $ rideable_type     : chr [1:609934] \"classic_bike\" \"classic_bike\" \"classic_bike\" \"classic_bike\" ...\n",
      " $ started_at        : chr [1:609934] \"04-06-2021 07:29\" \"23-06-2021 08:39\" \"27-06-2021 12:26\" \"01-06-2021 12:30\" ...\n",
      " $ ended_at          : chr [1:609934] \"04-06-2021 07:45\" \"23-06-2021 08:41\" \"27-06-2021 12:34\" \"01-06-2021 12:33\" ...\n",
      " $ start_station_name: chr [1:609934] \"Orleans St & Elm St\" \"Desplaines St & Kinzie St\" \"Clark St & Grace St\" \"Kingsbury St & Kinzie St\" ...\n",
      " $ start_station_id  : chr [1:609934] \"TA1306000006\" \"TA1306000003\" \"TA1307000127\" \"KA1503000043\" ...\n",
      " $ end_station_name  : chr [1:609934] \"Orleans St & Elm St\" \"Kingsbury St & Kinzie St\" \"Clark St & Leland Ave\" \"Desplaines St & Kinzie St\" ...\n",
      " $ end_station_id    : chr [1:609934] \"TA1306000006\" \"KA1503000043\" \"TA1309000014\" \"TA1306000003\" ...\n",
      " $ start_lat         : num [1:609934] 41.9 41.9 42 41.9 41.9 ...\n",
      " $ start_lng         : num [1:609934] -87.6 -87.6 -87.7 -87.6 -87.6 ...\n",
      " $ end_lat           : num [1:609934] 41.9 41.9 42 41.9 41.9 ...\n",
      " $ end_lng           : num [1:609934] -87.6 -87.6 -87.7 -87.6 -87.6 ...\n",
      " $ member_casual     : chr [1:609934] \"member\" \"member\" \"member\" \"member\" ...\n",
      " $ ...14             : logi [1:609934] NA NA NA NA NA NA ...\n",
      " $ ...15             : logi [1:609934] NA NA NA NA NA NA ...\n",
      " $ ...16             : logi [1:609934] NA NA NA NA NA NA ...\n",
      " $ ...17             : logi [1:609934] NA NA NA NA NA NA ...\n",
      " $ ...18             : logi [1:609934] NA NA NA NA NA NA ...\n",
      " - attr(*, \"spec\")=\n",
      "  .. cols(\n",
      "  ..   ride_id = \u001b[31mcol_character()\u001b[39m,\n",
      "  ..   rideable_type = \u001b[31mcol_character()\u001b[39m,\n",
      "  ..   started_at = \u001b[31mcol_character()\u001b[39m,\n",
      "  ..   ended_at = \u001b[31mcol_character()\u001b[39m,\n",
      "  ..   start_station_name = \u001b[31mcol_character()\u001b[39m,\n",
      "  ..   start_station_id = \u001b[31mcol_character()\u001b[39m,\n",
      "  ..   end_station_name = \u001b[31mcol_character()\u001b[39m,\n",
      "  ..   end_station_id = \u001b[31mcol_character()\u001b[39m,\n",
      "  ..   start_lat = \u001b[32mcol_double()\u001b[39m,\n",
      "  ..   start_lng = \u001b[32mcol_double()\u001b[39m,\n",
      "  ..   end_lat = \u001b[32mcol_double()\u001b[39m,\n",
      "  ..   end_lng = \u001b[32mcol_double()\u001b[39m,\n",
      "  ..   member_casual = \u001b[31mcol_character()\u001b[39m,\n",
      "  ..   ...14 = \u001b[33mcol_logical()\u001b[39m,\n",
      "  ..   ...15 = \u001b[33mcol_logical()\u001b[39m,\n",
      "  ..   ...16 = \u001b[33mcol_logical()\u001b[39m,\n",
      "  ..   ...17 = \u001b[33mcol_logical()\u001b[39m,\n",
      "  ..   ...18 = \u001b[33mcol_logical()\u001b[39m\n",
      "  .. )\n",
      " - attr(*, \"problems\")=<externalptr> \n",
      "spc_tbl_ [693,503 × 18] (S3: spec_tbl_df/tbl_df/tbl/data.frame)\n",
      " $ ride_id           : chr [1:693503] \"0A1B623926EF4E16\" \"B2D5583A5A5E76EE\" \"6F264597DDBF427A\" \"379B58EAB20E8AA5\" ...\n",
      " $ rideable_type     : chr [1:693503] \"docked_bike\" \"classic_bike\" \"classic_bike\" \"classic_bike\" ...\n",
      " $ started_at        : chr [1:693503] \"02-07-2021 14:44\" \"07-07-2021 16:57\" \"25-07-2021 11:30\" \"08-07-2021 22:08\" ...\n",
      " $ ended_at          : chr [1:693503] \"02-07-2021 15:19\" \"07-07-2021 17:16\" \"25-07-2021 11:48\" \"08-07-2021 22:23\" ...\n",
      " $ start_station_name: chr [1:693503] \"Michigan Ave & Washington St\" \"California Ave & Cortez St\" \"Wabash Ave & 16th St\" \"California Ave & Cortez St\" ...\n",
      " $ start_station_id  : chr [1:693503] \"13001\" \"17660\" \"SL-012\" \"17660\" ...\n",
      " $ end_station_name  : chr [1:693503] \"Halsted St & North Branch St\" \"Wood St & Hubbard St\" \"Rush St & Hubbard St\" \"Carpenter St & Huron St\" ...\n",
      " $ end_station_id    : chr [1:693503] \"KA1504000117\" \"13432\" \"KA1503000044\" \"13196\" ...\n",
      " $ start_lat         : num [1:693503] 41.9 41.9 41.9 41.9 41.9 ...\n",
      " $ start_lng         : num [1:693503] -87.6 -87.7 -87.6 -87.7 -87.7 ...\n",
      " $ end_lat           : num [1:693503] 41.9 41.9 41.9 41.9 41.9 ...\n",
      " $ end_lng           : num [1:693503] -87.6 -87.7 -87.6 -87.7 -87.7 ...\n",
      " $ member_casual     : chr [1:693503] \"casual\" \"casual\" \"member\" \"member\" ...\n",
      " $ ...14             : logi [1:693503] NA NA NA NA NA NA ...\n",
      " $ ...15             : logi [1:693503] NA NA NA NA NA NA ...\n",
      " $ ...16             : logi [1:693503] NA NA NA NA NA NA ...\n",
      " $ ...17             : logi [1:693503] NA NA NA NA NA NA ...\n",
      " $ ...18             : logi [1:693503] NA NA NA NA NA NA ...\n",
      " - attr(*, \"spec\")=\n",
      "  .. cols(\n",
      "  ..   ride_id = \u001b[31mcol_character()\u001b[39m,\n",
      "  ..   rideable_type = \u001b[31mcol_character()\u001b[39m,\n",
      "  ..   started_at = \u001b[31mcol_character()\u001b[39m,\n",
      "  ..   ended_at = \u001b[31mcol_character()\u001b[39m,\n",
      "  ..   start_station_name = \u001b[31mcol_character()\u001b[39m,\n",
      "  ..   start_station_id = \u001b[31mcol_character()\u001b[39m,\n",
      "  ..   end_station_name = \u001b[31mcol_character()\u001b[39m,\n",
      "  ..   end_station_id = \u001b[31mcol_character()\u001b[39m,\n",
      "  ..   start_lat = \u001b[32mcol_double()\u001b[39m,\n",
      "  ..   start_lng = \u001b[32mcol_double()\u001b[39m,\n",
      "  ..   end_lat = \u001b[32mcol_double()\u001b[39m,\n",
      "  ..   end_lng = \u001b[32mcol_double()\u001b[39m,\n",
      "  ..   member_casual = \u001b[31mcol_character()\u001b[39m,\n",
      "  ..   ...14 = \u001b[33mcol_logical()\u001b[39m,\n",
      "  ..   ...15 = \u001b[33mcol_logical()\u001b[39m,\n",
      "  ..   ...16 = \u001b[33mcol_logical()\u001b[39m,\n",
      "  ..   ...17 = \u001b[33mcol_logical()\u001b[39m,\n",
      "  ..   ...18 = \u001b[33mcol_logical()\u001b[39m\n",
      "  .. )\n",
      " - attr(*, \"problems\")=<externalptr> \n",
      "spc_tbl_ [675,599 × 18] (S3: spec_tbl_df/tbl_df/tbl/data.frame)\n",
      " $ ride_id           : chr [1:675599] \"DD06751C6019D865\" \"79973DC3B232048F\" \"0249AD4B258806AD\" \"F41EB054E44ACFDA\" ...\n",
      " $ rideable_type     : chr [1:675599] \"classic_bike\" \"classic_bike\" \"classic_bike\" \"classic_bike\" ...\n",
      " $ started_at        : chr [1:675599] \"08-08-2021 17:21\" \"27-08-2021 08:53\" \"08-08-2021 12:59\" \"12-08-2021 16:52\" ...\n",
      " $ ended_at          : chr [1:675599] \"08-08-2021 17:25\" \"27-08-2021 09:18\" \"08-08-2021 12:59\" \"12-08-2021 16:56\" ...\n",
      " $ start_station_name: chr [1:675599] \"Desplaines St & Kinzie St\" \"Larrabee St & Armitage Ave\" \"Aberdeen St & Jackson Blvd\" \"Michigan Ave & Oak St\" ...\n",
      " $ start_station_id  : chr [1:675599] \"TA1306000003\" \"TA1309000006\" \"13157\" \"13042\" ...\n",
      " $ end_station_name  : chr [1:675599] \"Kingsbury St & Kinzie St\" \"Michigan Ave & Oak St\" \"Aberdeen St & Jackson Blvd\" \"Michigan Ave & Oak St\" ...\n",
      " $ end_station_id    : chr [1:675599] \"KA1503000043\" \"13042\" \"13157\" \"13042\" ...\n",
      " $ start_lat         : num [1:675599] 41.9 41.9 41.9 41.9 41.9 ...\n",
      " $ start_lng         : num [1:675599] -87.6 -87.6 -87.7 -87.6 -87.6 ...\n",
      " $ end_lat           : num [1:675599] 41.9 41.9 41.9 41.9 41.9 ...\n",
      " $ end_lng           : num [1:675599] -87.6 -87.6 -87.7 -87.6 -87.6 ...\n",
      " $ member_casual     : chr [1:675599] \"member\" \"member\" \"member\" \"casual\" ...\n",
      " $ ...14             : logi [1:675599] NA NA NA NA NA NA ...\n",
      " $ ...15             : logi [1:675599] NA NA NA NA NA NA ...\n",
      " $ ...16             : logi [1:675599] NA NA NA NA NA NA ...\n",
      " $ ...17             : logi [1:675599] NA NA NA NA NA NA ...\n",
      " $ ...18             : logi [1:675599] NA NA NA NA NA NA ...\n",
      " - attr(*, \"spec\")=\n",
      "  .. cols(\n",
      "  ..   ride_id = \u001b[31mcol_character()\u001b[39m,\n",
      "  ..   rideable_type = \u001b[31mcol_character()\u001b[39m,\n",
      "  ..   started_at = \u001b[31mcol_character()\u001b[39m,\n",
      "  ..   ended_at = \u001b[31mcol_character()\u001b[39m,\n",
      "  ..   start_station_name = \u001b[31mcol_character()\u001b[39m,\n",
      "  ..   start_station_id = \u001b[31mcol_character()\u001b[39m,\n",
      "  ..   end_station_name = \u001b[31mcol_character()\u001b[39m,\n",
      "  ..   end_station_id = \u001b[31mcol_character()\u001b[39m,\n",
      "  ..   start_lat = \u001b[32mcol_double()\u001b[39m,\n",
      "  ..   start_lng = \u001b[32mcol_double()\u001b[39m,\n",
      "  ..   end_lat = \u001b[32mcol_double()\u001b[39m,\n",
      "  ..   end_lng = \u001b[32mcol_double()\u001b[39m,\n",
      "  ..   member_casual = \u001b[31mcol_character()\u001b[39m,\n",
      "  ..   ...14 = \u001b[33mcol_logical()\u001b[39m,\n",
      "  ..   ...15 = \u001b[33mcol_logical()\u001b[39m,\n",
      "  ..   ...16 = \u001b[33mcol_logical()\u001b[39m,\n",
      "  ..   ...17 = \u001b[33mcol_logical()\u001b[39m,\n",
      "  ..   ...18 = \u001b[33mcol_logical()\u001b[39m\n",
      "  .. )\n",
      " - attr(*, \"problems\")=<externalptr> \n",
      "spc_tbl_ [622,229 × 18] (S3: spec_tbl_df/tbl_df/tbl/data.frame)\n",
      " $ ride_id           : chr [1:622229] \"E92C804563F261EC\" \"9ECA91210441E847\" \"A853C8B06F03D834\" \"3DAA144C4E85E3AA\" ...\n",
      " $ rideable_type     : chr [1:622229] \"classic_bike\" \"classic_bike\" \"electric_bike\" \"classic_bike\" ...\n",
      " $ started_at        : chr [1:622229] \"05-09-2021 01:25\" \"05-09-2021 13:33\" \"30-09-2021 18:54\" \"04-09-2021 23:00\" ...\n",
      " $ ended_at          : chr [1:622229] \"05-09-2021 01:35\" \"05-09-2021 14:06\" \"30-09-2021 19:01\" \"04-09-2021 23:10\" ...\n",
      " $ start_station_name: chr [1:622229] \"Wells St & Walton St\" \"Larrabee St & Armitage Ave\" \"Orleans St & Elm St\" \"Dearborn St & Monroe St\" ...\n",
      " $ start_station_id  : chr [1:622229] \"TA1306000011\" \"TA1309000006\" \"TA1306000006\" \"TA1305000006\" ...\n",
      " $ end_station_name  : chr [1:622229] \"Desplaines St & Kinzie St\" \"Clark St & Leland Ave\" NA \"Dearborn St & Monroe St\" ...\n",
      " $ end_station_id    : chr [1:622229] \"TA1306000003\" \"TA1309000014\" NA \"TA1305000006\" ...\n",
      " $ start_lat         : num [1:622229] 41.9 41.9 41.9 41.9 41.9 ...\n",
      " $ start_lng         : num [1:622229] -87.6 -87.6 -87.6 -87.6 -87.6 ...\n",
      " $ end_lat           : num [1:622229] 41.9 42 41.9 41.9 41.9 ...\n",
      " $ end_lng           : num [1:622229] -87.6 -87.7 -87.6 -87.6 -87.6 ...\n",
      " $ member_casual     : chr [1:622229] \"casual\" \"casual\" \"casual\" \"casual\" ...\n",
      " $ ...14             : logi [1:622229] NA NA NA NA NA NA ...\n",
      " $ ...15             : logi [1:622229] NA NA NA NA NA NA ...\n",
      " $ ...16             : logi [1:622229] NA NA NA NA NA NA ...\n",
      " $ ...17             : logi [1:622229] NA NA NA NA NA NA ...\n",
      " $ ...18             : logi [1:622229] NA NA NA NA NA NA ...\n",
      " - attr(*, \"spec\")=\n",
      "  .. cols(\n",
      "  ..   ride_id = \u001b[31mcol_character()\u001b[39m,\n",
      "  ..   rideable_type = \u001b[31mcol_character()\u001b[39m,\n",
      "  ..   started_at = \u001b[31mcol_character()\u001b[39m,\n",
      "  ..   ended_at = \u001b[31mcol_character()\u001b[39m,\n",
      "  ..   start_station_name = \u001b[31mcol_character()\u001b[39m,\n",
      "  ..   start_station_id = \u001b[31mcol_character()\u001b[39m,\n",
      "  ..   end_station_name = \u001b[31mcol_character()\u001b[39m,\n",
      "  ..   end_station_id = \u001b[31mcol_character()\u001b[39m,\n",
      "  ..   start_lat = \u001b[32mcol_double()\u001b[39m,\n",
      "  ..   start_lng = \u001b[32mcol_double()\u001b[39m,\n",
      "  ..   end_lat = \u001b[32mcol_double()\u001b[39m,\n",
      "  ..   end_lng = \u001b[32mcol_double()\u001b[39m,\n",
      "  ..   member_casual = \u001b[31mcol_character()\u001b[39m,\n",
      "  ..   ...14 = \u001b[33mcol_logical()\u001b[39m,\n",
      "  ..   ...15 = \u001b[33mcol_logical()\u001b[39m,\n",
      "  ..   ...16 = \u001b[33mcol_logical()\u001b[39m,\n",
      "  ..   ...17 = \u001b[33mcol_logical()\u001b[39m,\n",
      "  ..   ...18 = \u001b[33mcol_logical()\u001b[39m\n",
      "  .. )\n",
      " - attr(*, \"problems\")=<externalptr> \n",
      "spc_tbl_ [479,448 × 18] (S3: spec_tbl_df/tbl_df/tbl/data.frame)\n",
      " $ ride_id           : chr [1:479448] \"614B15BC42810184\" \"ADCC6E3CF9C04688\" \"6184CC57243AEF3C\" \"DE02D027BAC5C820\" ...\n",
      " $ rideable_type     : chr [1:479448] \"docked_bike\" \"classic_bike\" \"docked_bike\" \"docked_bike\" ...\n",
      " $ started_at        : chr [1:479448] \"05-10-2021 10:56\" \"06-10-2021 13:55\" \"16-10-2021 10:19\" \"24-10-2021 11:03\" ...\n",
      " $ ended_at          : chr [1:479448] \"05-10-2021 11:38\" \"06-10-2021 13:58\" \"16-10-2021 12:01\" \"24-10-2021 13:10\" ...\n",
      " $ start_station_name: chr [1:479448] \"Michigan Ave & Oak St\" \"Desplaines St & Kinzie St\" \"Michigan Ave & Oak St\" \"Michigan Ave & Oak St\" ...\n",
      " $ start_station_id  : chr [1:479448] \"13042\" \"TA1306000003\" \"13042\" \"13042\" ...\n",
      " $ end_station_name  : chr [1:479448] \"Michigan Ave & Oak St\" \"Kingsbury St & Kinzie St\" \"Michigan Ave & Oak St\" \"Michigan Ave & Oak St\" ...\n",
      " $ end_station_id    : chr [1:479448] \"13042\" \"KA1503000043\" \"13042\" \"13042\" ...\n",
      " $ start_lat         : num [1:479448] 41.9 41.9 41.9 41.9 41.9 ...\n",
      " $ start_lng         : num [1:479448] -87.6 -87.6 -87.6 -87.6 -87.6 ...\n",
      " $ end_lat           : num [1:479448] 41.9 41.9 41.9 41.9 41.9 ...\n",
      " $ end_lng           : num [1:479448] -87.6 -87.6 -87.6 -87.6 -87.6 ...\n",
      " $ member_casual     : chr [1:479448] \"casual\" \"member\" \"casual\" \"casual\" ...\n",
      " $ ...14             : logi [1:479448] NA NA NA NA NA NA ...\n",
      " $ ...15             : logi [1:479448] NA NA NA NA NA NA ...\n",
      " $ ...16             : logi [1:479448] NA NA NA NA NA NA ...\n",
      " $ ...17             : logi [1:479448] NA NA NA NA NA NA ...\n",
      " $ ...18             : logi [1:479448] NA NA NA NA NA NA ...\n",
      " - attr(*, \"spec\")=\n",
      "  .. cols(\n",
      "  ..   ride_id = \u001b[31mcol_character()\u001b[39m,\n",
      "  ..   rideable_type = \u001b[31mcol_character()\u001b[39m,\n",
      "  ..   started_at = \u001b[31mcol_character()\u001b[39m,\n",
      "  ..   ended_at = \u001b[31mcol_character()\u001b[39m,\n",
      "  ..   start_station_name = \u001b[31mcol_character()\u001b[39m,\n",
      "  ..   start_station_id = \u001b[31mcol_character()\u001b[39m,\n",
      "  ..   end_station_name = \u001b[31mcol_character()\u001b[39m,\n",
      "  ..   end_station_id = \u001b[31mcol_character()\u001b[39m,\n",
      "  ..   start_lat = \u001b[32mcol_double()\u001b[39m,\n",
      "  ..   start_lng = \u001b[32mcol_double()\u001b[39m,\n",
      "  ..   end_lat = \u001b[32mcol_double()\u001b[39m,\n",
      "  ..   end_lng = \u001b[32mcol_double()\u001b[39m,\n",
      "  ..   member_casual = \u001b[31mcol_character()\u001b[39m,\n",
      "  ..   ...14 = \u001b[33mcol_logical()\u001b[39m,\n",
      "  ..   ...15 = \u001b[33mcol_logical()\u001b[39m,\n",
      "  ..   ...16 = \u001b[33mcol_logical()\u001b[39m,\n",
      "  ..   ...17 = \u001b[33mcol_logical()\u001b[39m,\n",
      "  ..   ...18 = \u001b[33mcol_logical()\u001b[39m\n",
      "  .. )\n",
      " - attr(*, \"problems\")=<externalptr> \n",
      "spc_tbl_ [256,711 × 18] (S3: spec_tbl_df/tbl_df/tbl/data.frame)\n",
      " $ ride_id           : chr [1:256711] \"4CA9676997DAFFF6\" \"D7C94B749FC6A2EC\" \"F3E84A230AF2D676\" \"CFD9D3EFA3AF2C11\" ...\n",
      " $ rideable_type     : chr [1:256711] \"classic_bike\" \"electric_bike\" \"classic_bike\" \"electric_bike\" ...\n",
      " $ started_at        : chr [1:256711] \"26-11-2021 10:27\" \"04-11-2021 21:38\" \"15-11-2021 09:35\" \"08-11-2021 19:25\" ...\n",
      " $ ended_at          : chr [1:256711] \"26-11-2021 11:22\" \"04-11-2021 22:21\" \"15-11-2021 09:42\" \"08-11-2021 20:08\" ...\n",
      " $ start_station_name: chr [1:256711] \"Michigan Ave & Oak St\" \"Dearborn St & Monroe St\" \"Clark St & Grace St\" \"Michigan Ave & Oak St\" ...\n",
      " $ start_station_id  : chr [1:256711] \"13042\" \"TA1305000006\" \"TA1307000127\" \"13042\" ...\n",
      " $ end_station_name  : chr [1:256711] \"Michigan Ave & Oak St\" NA \"Clark St & Leland Ave\" NA ...\n",
      " $ end_station_id    : chr [1:256711] \"13042\" NA \"TA1309000014\" NA ...\n",
      " $ start_lat         : num [1:256711] 41.9 41.9 42 41.9 41.9 ...\n",
      " $ start_lng         : num [1:256711] -87.6 -87.6 -87.7 -87.6 -87.6 ...\n",
      " $ end_lat           : num [1:256711] 41.9 42 42 42 41.9 ...\n",
      " $ end_lng           : num [1:256711] -87.6 -87.7 -87.7 -87.7 -87.6 ...\n",
      " $ member_casual     : chr [1:256711] \"casual\" \"casual\" \"casual\" \"casual\" ...\n",
      " $ ...14             : logi [1:256711] NA NA NA NA NA NA ...\n",
      " $ ...15             : logi [1:256711] NA NA NA NA NA NA ...\n",
      " $ ...16             : logi [1:256711] NA NA NA NA NA NA ...\n",
      " $ ...17             : logi [1:256711] NA NA NA NA NA NA ...\n",
      " $ ...18             : logi [1:256711] NA NA NA NA NA NA ...\n",
      " - attr(*, \"spec\")=\n",
      "  .. cols(\n",
      "  ..   ride_id = \u001b[31mcol_character()\u001b[39m,\n",
      "  ..   rideable_type = \u001b[31mcol_character()\u001b[39m,\n",
      "  ..   started_at = \u001b[31mcol_character()\u001b[39m,\n",
      "  ..   ended_at = \u001b[31mcol_character()\u001b[39m,\n",
      "  ..   start_station_name = \u001b[31mcol_character()\u001b[39m,\n",
      "  ..   start_station_id = \u001b[31mcol_character()\u001b[39m,\n",
      "  ..   end_station_name = \u001b[31mcol_character()\u001b[39m,\n",
      "  ..   end_station_id = \u001b[31mcol_character()\u001b[39m,\n",
      "  ..   start_lat = \u001b[32mcol_double()\u001b[39m,\n",
      "  ..   start_lng = \u001b[32mcol_double()\u001b[39m,\n",
      "  ..   end_lat = \u001b[32mcol_double()\u001b[39m,\n",
      "  ..   end_lng = \u001b[32mcol_double()\u001b[39m,\n",
      "  ..   member_casual = \u001b[31mcol_character()\u001b[39m,\n",
      "  ..   ...14 = \u001b[33mcol_logical()\u001b[39m,\n",
      "  ..   ...15 = \u001b[33mcol_logical()\u001b[39m,\n",
      "  ..   ...16 = \u001b[33mcol_logical()\u001b[39m,\n",
      "  ..   ...17 = \u001b[33mcol_logical()\u001b[39m,\n",
      "  ..   ...18 = \u001b[33mcol_logical()\u001b[39m\n",
      "  .. )\n",
      " - attr(*, \"problems\")=<externalptr> \n",
      "spc_tbl_ [176,801 × 18] (S3: spec_tbl_df/tbl_df/tbl/data.frame)\n",
      " $ ride_id           : chr [1:176801] \"46F8167220E4431F\" \"73A77762838B32FD\" \"4CF42452054F59C5\" \"3278BA87BF698339\" ...\n",
      " $ rideable_type     : chr [1:176801] \"electric_bike\" \"electric_bike\" \"electric_bike\" \"classic_bike\" ...\n",
      " $ started_at        : chr [1:176801] \"07-12-2021 15:06\" \"11-12-2021 03:43\" \"15-12-2021 23:10\" \"26-12-2021 16:16\" ...\n",
      " $ ended_at          : chr [1:176801] \"07-12-2021 15:13\" \"11-12-2021 04:10\" \"15-12-2021 23:23\" \"26-12-2021 16:30\" ...\n",
      " $ start_station_name: chr [1:176801] \"Laflin St & Cullerton St\" \"LaSalle Dr & Huron St\" \"Halsted St & North Branch St\" \"Halsted St & North Branch St\" ...\n",
      " $ start_station_id  : chr [1:176801] \"13307\" \"KP1705001026\" \"KA1504000117\" \"KA1504000117\" ...\n",
      " $ end_station_name  : chr [1:176801] \"Morgan St & Polk St\" \"Clarendon Ave & Leland Ave\" \"Broadway & Barry Ave\" \"LaSalle Dr & Huron St\" ...\n",
      " $ end_station_id    : chr [1:176801] \"TA1307000130\" \"TA1307000119\" \"13137\" \"KP1705001026\" ...\n",
      " $ start_lat         : num [1:176801] 41.9 41.9 41.9 41.9 41.9 ...\n",
      " $ start_lng         : num [1:176801] -87.7 -87.6 -87.6 -87.6 -87.7 ...\n",
      " $ end_lat           : num [1:176801] 41.9 42 41.9 41.9 41.9 ...\n",
      " $ end_lng           : num [1:176801] -87.7 -87.7 -87.6 -87.6 -87.6 ...\n",
      " $ member_casual     : chr [1:176801] \"member\" \"casual\" \"member\" \"member\" ...\n",
      " $ ...14             : logi [1:176801] NA NA NA NA NA NA ...\n",
      " $ ...15             : logi [1:176801] NA NA NA NA NA NA ...\n",
      " $ ...16             : logi [1:176801] NA NA NA NA NA NA ...\n",
      " $ ...17             : logi [1:176801] NA NA NA NA NA NA ...\n",
      " $ ...18             : logi [1:176801] NA NA NA NA NA NA ...\n",
      " - attr(*, \"spec\")=\n",
      "  .. cols(\n",
      "  ..   ride_id = \u001b[31mcol_character()\u001b[39m,\n",
      "  ..   rideable_type = \u001b[31mcol_character()\u001b[39m,\n",
      "  ..   started_at = \u001b[31mcol_character()\u001b[39m,\n",
      "  ..   ended_at = \u001b[31mcol_character()\u001b[39m,\n",
      "  ..   start_station_name = \u001b[31mcol_character()\u001b[39m,\n",
      "  ..   start_station_id = \u001b[31mcol_character()\u001b[39m,\n",
      "  ..   end_station_name = \u001b[31mcol_character()\u001b[39m,\n",
      "  ..   end_station_id = \u001b[31mcol_character()\u001b[39m,\n",
      "  ..   start_lat = \u001b[32mcol_double()\u001b[39m,\n",
      "  ..   start_lng = \u001b[32mcol_double()\u001b[39m,\n",
      "  ..   end_lat = \u001b[32mcol_double()\u001b[39m,\n",
      "  ..   end_lng = \u001b[32mcol_double()\u001b[39m,\n",
      "  ..   member_casual = \u001b[31mcol_character()\u001b[39m,\n",
      "  ..   ...14 = \u001b[33mcol_logical()\u001b[39m,\n",
      "  ..   ...15 = \u001b[33mcol_logical()\u001b[39m,\n",
      "  ..   ...16 = \u001b[33mcol_logical()\u001b[39m,\n",
      "  ..   ...17 = \u001b[33mcol_logical()\u001b[39m,\n",
      "  ..   ...18 = \u001b[33mcol_logical()\u001b[39m\n",
      "  .. )\n",
      " - attr(*, \"problems\")=<externalptr> \n"
     ]
    }
   ],
   "source": [
    "# Inspect the dataframes and look for incongruencies\n",
    "str(jan01_df)\n",
    "\n",
    "str(feb02_df)\n",
    "\n",
    "str(mar03_df)\n",
    "\n",
    "str(apr04_df)\n",
    "\n",
    "str(may05_df)\n",
    "\n",
    "str(jun06_df)\n",
    "\n",
    "str(jul07_df)\n",
    "\n",
    "str(aug08_df)\n",
    "\n",
    "str(sep09_df)\n",
    "\n",
    "str(oct10_df)\n",
    "\n",
    "str(nov11_df)\n",
    "\n",
    "str(dec12_df)"
   ]
  },
  {
   "cell_type": "markdown",
   "id": "e0bd5734",
   "metadata": {
    "papermill": {
     "duration": 0.023082,
     "end_time": "2024-04-01T09:44:42.454380",
     "exception": false,
     "start_time": "2024-04-01T09:44:42.431298",
     "status": "completed"
    },
    "tags": []
   },
   "source": [
    "**Concatenating**\n",
    "\n",
    "All the csvs files will be concatenated into one dataframe. "
   ]
  },
  {
   "cell_type": "code",
   "execution_count": 4,
   "id": "74f7cdbb",
   "metadata": {
    "execution": {
     "iopub.execute_input": "2024-04-01T09:44:42.510620Z",
     "iopub.status.busy": "2024-04-01T09:44:42.506473Z",
     "iopub.status.idle": "2024-04-01T09:44:52.108385Z",
     "shell.execute_reply": "2024-04-01T09:44:52.105602Z"
    },
    "papermill": {
     "duration": 9.635403,
     "end_time": "2024-04-01T09:44:52.113165",
     "exception": false,
     "start_time": "2024-04-01T09:44:42.477762",
     "status": "completed"
    },
    "tags": []
   },
   "outputs": [],
   "source": [
    "# Combining the individual files into one using rbind()\n",
    "bikerides <- bind_rows(jan01_df, feb02_df, mar03_df, apr04_df, may05_df, jun06_df, jul07_df, aug08_df, sep09_df, oct10_df, nov11_df, dec12_df)\n"
   ]
  },
  {
   "cell_type": "code",
   "execution_count": 5,
   "id": "d4e9764a",
   "metadata": {
    "execution": {
     "iopub.execute_input": "2024-04-01T09:44:52.164171Z",
     "iopub.status.busy": "2024-04-01T09:44:52.162187Z",
     "iopub.status.idle": "2024-04-01T09:44:52.187888Z",
     "shell.execute_reply": "2024-04-01T09:44:52.185098Z"
    },
    "papermill": {
     "duration": 0.055288,
     "end_time": "2024-04-01T09:44:52.191420",
     "exception": false,
     "start_time": "2024-04-01T09:44:52.136132",
     "status": "completed"
    },
    "tags": []
   },
   "outputs": [
    {
     "name": "stdout",
     "output_type": "stream",
     "text": [
      "[1] 4664280\n"
     ]
    }
   ],
   "source": [
    "# Confirming the total number of rows for the individual dataframes\n",
    "rowtotal <- sum(nrow(jan01_df), nrow(feb02_df), nrow(mar03_df), nrow(apr04_df), nrow(may05_df), nrow(jun06_df), nrow(jul07_df), nrow(aug08_df), nrow(sep09_df), nrow(oct10_df), nrow(nov11_df), nrow(dec12_df))\n",
    "print (rowtotal)"
   ]
  },
  {
   "cell_type": "code",
   "execution_count": 6,
   "id": "f484c3b9",
   "metadata": {
    "execution": {
     "iopub.execute_input": "2024-04-01T09:44:52.239953Z",
     "iopub.status.busy": "2024-04-01T09:44:52.237994Z",
     "iopub.status.idle": "2024-04-01T09:44:52.260605Z",
     "shell.execute_reply": "2024-04-01T09:44:52.257892Z"
    },
    "papermill": {
     "duration": 0.051146,
     "end_time": "2024-04-01T09:44:52.264551",
     "exception": false,
     "start_time": "2024-04-01T09:44:52.213405",
     "status": "completed"
    },
    "tags": []
   },
   "outputs": [
    {
     "name": "stdout",
     "output_type": "stream",
     "text": [
      "[1] 4664280\n"
     ]
    }
   ],
   "source": [
    "# Confirming the total number of rows for the combined dataframe\n",
    "print (nrow(bikerides))"
   ]
  },
  {
   "cell_type": "code",
   "execution_count": 7,
   "id": "6f5b786a",
   "metadata": {
    "execution": {
     "iopub.execute_input": "2024-04-01T09:44:52.313682Z",
     "iopub.status.busy": "2024-04-01T09:44:52.311712Z",
     "iopub.status.idle": "2024-04-01T09:44:52.361164Z",
     "shell.execute_reply": "2024-04-01T09:44:52.358431Z"
    },
    "papermill": {
     "duration": 0.077821,
     "end_time": "2024-04-01T09:44:52.364290",
     "exception": false,
     "start_time": "2024-04-01T09:44:52.286469",
     "status": "completed"
    },
    "tags": []
   },
   "outputs": [
    {
     "name": "stdout",
     "output_type": "stream",
     "text": [
      "spc_tbl_ [4,664,280 × 18] (S3: spec_tbl_df/tbl_df/tbl/data.frame)\n",
      " $ ride_id           : chr [1:4664280] \"B9F73448DFBE0D45\" \"457C7F4B5D3DA135\" \"57C750326F9FDABE\" \"4D518C65E338D070\" ...\n",
      " $ rideable_type     : chr [1:4664280] \"classic_bike\" \"electric_bike\" \"electric_bike\" \"electric_bike\" ...\n",
      " $ started_at        : chr [1:4664280] \"24-01-2021 19:15\" \"23-01-2021 12:57\" \"09-01-2021 15:28\" \"09-01-2021 15:28\" ...\n",
      " $ ended_at          : chr [1:4664280] \"24-01-2021 19:22\" \"23-01-2021 13:02\" \"09-01-2021 15:37\" \"09-01-2021 15:37\" ...\n",
      " $ start_station_name: chr [1:4664280] \"California Ave & Cortez St\" \"California Ave & Cortez St\" \"California Ave & Cortez St\" \"California Ave & Cortez St\" ...\n",
      " $ start_station_id  : chr [1:4664280] \"17660\" \"17660\" \"17660\" \"17660\" ...\n",
      " $ end_station_name  : chr [1:4664280] \"Wood St & Augusta Blvd\" \"California Ave & North Ave\" \"Wood St & Augusta Blvd\" \"Wood St & Augusta Blvd\" ...\n",
      " $ end_station_id    : chr [1:4664280] \"657\" \"13258\" \"657\" \"657\" ...\n",
      " $ start_lat         : num [1:4664280] 41.9 41.9 41.9 41.9 41.9 ...\n",
      " $ start_lng         : num [1:4664280] -87.7 -87.7 -87.7 -87.7 -87.7 ...\n",
      " $ end_lat           : num [1:4664280] 41.9 41.9 41.9 41.9 41.9 ...\n",
      " $ end_lng           : num [1:4664280] -87.7 -87.7 -87.7 -87.7 -87.7 ...\n",
      " $ member_casual     : chr [1:4664280] \"member\" \"member\" \"casual\" \"casual\" ...\n",
      " $ ...14             : logi [1:4664280] NA NA NA NA NA NA ...\n",
      " $ ...15             : logi [1:4664280] NA NA NA NA NA NA ...\n",
      " $ ...16             : logi [1:4664280] NA NA NA NA NA NA ...\n",
      " $ ...17             : logi [1:4664280] NA NA NA NA NA NA ...\n",
      " $ ...18             : logi [1:4664280] NA NA NA NA NA NA ...\n",
      " - attr(*, \"spec\")=\n",
      "  .. cols(\n",
      "  ..   ride_id = \u001b[31mcol_character()\u001b[39m,\n",
      "  ..   rideable_type = \u001b[31mcol_character()\u001b[39m,\n",
      "  ..   started_at = \u001b[31mcol_character()\u001b[39m,\n",
      "  ..   ended_at = \u001b[31mcol_character()\u001b[39m,\n",
      "  ..   start_station_name = \u001b[31mcol_character()\u001b[39m,\n",
      "  ..   start_station_id = \u001b[31mcol_character()\u001b[39m,\n",
      "  ..   end_station_name = \u001b[31mcol_character()\u001b[39m,\n",
      "  ..   end_station_id = \u001b[31mcol_character()\u001b[39m,\n",
      "  ..   start_lat = \u001b[32mcol_double()\u001b[39m,\n",
      "  ..   start_lng = \u001b[32mcol_double()\u001b[39m,\n",
      "  ..   end_lat = \u001b[32mcol_double()\u001b[39m,\n",
      "  ..   end_lng = \u001b[32mcol_double()\u001b[39m,\n",
      "  ..   member_casual = \u001b[31mcol_character()\u001b[39m\n",
      "  .. )\n",
      " - attr(*, \"problems\")=<externalptr> \n"
     ]
    }
   ],
   "source": [
    "str(bikerides)"
   ]
  },
  {
   "cell_type": "code",
   "execution_count": 8,
   "id": "94234678",
   "metadata": {
    "execution": {
     "iopub.execute_input": "2024-04-01T09:44:52.414834Z",
     "iopub.status.busy": "2024-04-01T09:44:52.412922Z",
     "iopub.status.idle": "2024-04-01T09:44:52.476002Z",
     "shell.execute_reply": "2024-04-01T09:44:52.473846Z"
    },
    "papermill": {
     "duration": 0.092232,
     "end_time": "2024-04-01T09:44:52.478946",
     "exception": false,
     "start_time": "2024-04-01T09:44:52.386714",
     "status": "completed"
    },
    "tags": []
   },
   "outputs": [
    {
     "data": {
      "text/html": [
       "<table class=\"dataframe\">\n",
       "<caption>A tibble: 6 × 18</caption>\n",
       "<thead>\n",
       "\t<tr><th scope=col>ride_id</th><th scope=col>rideable_type</th><th scope=col>started_at</th><th scope=col>ended_at</th><th scope=col>start_station_name</th><th scope=col>start_station_id</th><th scope=col>end_station_name</th><th scope=col>end_station_id</th><th scope=col>start_lat</th><th scope=col>start_lng</th><th scope=col>end_lat</th><th scope=col>end_lng</th><th scope=col>member_casual</th><th scope=col>...14</th><th scope=col>...15</th><th scope=col>...16</th><th scope=col>...17</th><th scope=col>...18</th></tr>\n",
       "\t<tr><th scope=col>&lt;chr&gt;</th><th scope=col>&lt;chr&gt;</th><th scope=col>&lt;chr&gt;</th><th scope=col>&lt;chr&gt;</th><th scope=col>&lt;chr&gt;</th><th scope=col>&lt;chr&gt;</th><th scope=col>&lt;chr&gt;</th><th scope=col>&lt;chr&gt;</th><th scope=col>&lt;dbl&gt;</th><th scope=col>&lt;dbl&gt;</th><th scope=col>&lt;dbl&gt;</th><th scope=col>&lt;dbl&gt;</th><th scope=col>&lt;chr&gt;</th><th scope=col>&lt;lgl&gt;</th><th scope=col>&lt;lgl&gt;</th><th scope=col>&lt;lgl&gt;</th><th scope=col>&lt;lgl&gt;</th><th scope=col>&lt;lgl&gt;</th></tr>\n",
       "</thead>\n",
       "<tbody>\n",
       "\t<tr><td>B9F73448DFBE0D45</td><td>classic_bike </td><td>24-01-2021 19:15</td><td>24-01-2021 19:22</td><td>California Ave &amp; Cortez St</td><td>17660</td><td><span style=white-space:pre-wrap>Wood St &amp; Augusta Blvd    </span></td><td><span style=white-space:pre-wrap>657         </span></td><td>41.90036</td><td>-87.69670</td><td>41.89918</td><td>-87.67220</td><td>member</td><td>NA</td><td>NA</td><td>NA</td><td>NA</td><td>NA</td></tr>\n",
       "\t<tr><td>457C7F4B5D3DA135</td><td>electric_bike</td><td>23-01-2021 12:57</td><td>23-01-2021 13:02</td><td>California Ave &amp; Cortez St</td><td>17660</td><td>California Ave &amp; North Ave</td><td><span style=white-space:pre-wrap>13258       </span></td><td>41.90041</td><td>-87.69673</td><td>41.91044</td><td>-87.69689</td><td>member</td><td>NA</td><td>NA</td><td>NA</td><td>NA</td><td>NA</td></tr>\n",
       "\t<tr><td>57C750326F9FDABE</td><td>electric_bike</td><td>09-01-2021 15:28</td><td>09-01-2021 15:37</td><td>California Ave &amp; Cortez St</td><td>17660</td><td><span style=white-space:pre-wrap>Wood St &amp; Augusta Blvd    </span></td><td><span style=white-space:pre-wrap>657         </span></td><td>41.90037</td><td>-87.69669</td><td>41.89918</td><td>-87.67218</td><td>casual</td><td>NA</td><td>NA</td><td>NA</td><td>NA</td><td>NA</td></tr>\n",
       "\t<tr><td>4D518C65E338D070</td><td>electric_bike</td><td>09-01-2021 15:28</td><td>09-01-2021 15:37</td><td>California Ave &amp; Cortez St</td><td>17660</td><td><span style=white-space:pre-wrap>Wood St &amp; Augusta Blvd    </span></td><td><span style=white-space:pre-wrap>657         </span></td><td>41.90038</td><td>-87.69672</td><td>41.89915</td><td>-87.67218</td><td>casual</td><td>NA</td><td>NA</td><td>NA</td><td>NA</td><td>NA</td></tr>\n",
       "\t<tr><td>9D08A3AFF410474D</td><td>classic_bike </td><td>24-01-2021 15:56</td><td>24-01-2021 16:07</td><td>California Ave &amp; Cortez St</td><td>17660</td><td><span style=white-space:pre-wrap>Wood St &amp; Augusta Blvd    </span></td><td><span style=white-space:pre-wrap>657         </span></td><td>41.90036</td><td>-87.69670</td><td>41.89918</td><td>-87.67220</td><td>casual</td><td>NA</td><td>NA</td><td>NA</td><td>NA</td><td>NA</td></tr>\n",
       "\t<tr><td>49FCE1F8598F12C6</td><td>electric_bike</td><td>22-01-2021 15:15</td><td>22-01-2021 15:36</td><td>California Ave &amp; Cortez St</td><td>17660</td><td><span style=white-space:pre-wrap>Wells St &amp; Elm St         </span></td><td>KA1504000135</td><td>41.90037</td><td>-87.69679</td><td>41.90327</td><td>-87.63446</td><td>member</td><td>NA</td><td>NA</td><td>NA</td><td>NA</td><td>NA</td></tr>\n",
       "</tbody>\n",
       "</table>\n"
      ],
      "text/latex": [
       "A tibble: 6 × 18\n",
       "\\begin{tabular}{llllllllllllllllll}\n",
       " ride\\_id & rideable\\_type & started\\_at & ended\\_at & start\\_station\\_name & start\\_station\\_id & end\\_station\\_name & end\\_station\\_id & start\\_lat & start\\_lng & end\\_lat & end\\_lng & member\\_casual & ...14 & ...15 & ...16 & ...17 & ...18\\\\\n",
       " <chr> & <chr> & <chr> & <chr> & <chr> & <chr> & <chr> & <chr> & <dbl> & <dbl> & <dbl> & <dbl> & <chr> & <lgl> & <lgl> & <lgl> & <lgl> & <lgl>\\\\\n",
       "\\hline\n",
       "\t B9F73448DFBE0D45 & classic\\_bike  & 24-01-2021 19:15 & 24-01-2021 19:22 & California Ave \\& Cortez St & 17660 & Wood St \\& Augusta Blvd     & 657          & 41.90036 & -87.69670 & 41.89918 & -87.67220 & member & NA & NA & NA & NA & NA\\\\\n",
       "\t 457C7F4B5D3DA135 & electric\\_bike & 23-01-2021 12:57 & 23-01-2021 13:02 & California Ave \\& Cortez St & 17660 & California Ave \\& North Ave & 13258        & 41.90041 & -87.69673 & 41.91044 & -87.69689 & member & NA & NA & NA & NA & NA\\\\\n",
       "\t 57C750326F9FDABE & electric\\_bike & 09-01-2021 15:28 & 09-01-2021 15:37 & California Ave \\& Cortez St & 17660 & Wood St \\& Augusta Blvd     & 657          & 41.90037 & -87.69669 & 41.89918 & -87.67218 & casual & NA & NA & NA & NA & NA\\\\\n",
       "\t 4D518C65E338D070 & electric\\_bike & 09-01-2021 15:28 & 09-01-2021 15:37 & California Ave \\& Cortez St & 17660 & Wood St \\& Augusta Blvd     & 657          & 41.90038 & -87.69672 & 41.89915 & -87.67218 & casual & NA & NA & NA & NA & NA\\\\\n",
       "\t 9D08A3AFF410474D & classic\\_bike  & 24-01-2021 15:56 & 24-01-2021 16:07 & California Ave \\& Cortez St & 17660 & Wood St \\& Augusta Blvd     & 657          & 41.90036 & -87.69670 & 41.89918 & -87.67220 & casual & NA & NA & NA & NA & NA\\\\\n",
       "\t 49FCE1F8598F12C6 & electric\\_bike & 22-01-2021 15:15 & 22-01-2021 15:36 & California Ave \\& Cortez St & 17660 & Wells St \\& Elm St          & KA1504000135 & 41.90037 & -87.69679 & 41.90327 & -87.63446 & member & NA & NA & NA & NA & NA\\\\\n",
       "\\end{tabular}\n"
      ],
      "text/markdown": [
       "\n",
       "A tibble: 6 × 18\n",
       "\n",
       "| ride_id &lt;chr&gt; | rideable_type &lt;chr&gt; | started_at &lt;chr&gt; | ended_at &lt;chr&gt; | start_station_name &lt;chr&gt; | start_station_id &lt;chr&gt; | end_station_name &lt;chr&gt; | end_station_id &lt;chr&gt; | start_lat &lt;dbl&gt; | start_lng &lt;dbl&gt; | end_lat &lt;dbl&gt; | end_lng &lt;dbl&gt; | member_casual &lt;chr&gt; | ...14 &lt;lgl&gt; | ...15 &lt;lgl&gt; | ...16 &lt;lgl&gt; | ...17 &lt;lgl&gt; | ...18 &lt;lgl&gt; |\n",
       "|---|---|---|---|---|---|---|---|---|---|---|---|---|---|---|---|---|---|\n",
       "| B9F73448DFBE0D45 | classic_bike  | 24-01-2021 19:15 | 24-01-2021 19:22 | California Ave &amp; Cortez St | 17660 | Wood St &amp; Augusta Blvd     | 657          | 41.90036 | -87.69670 | 41.89918 | -87.67220 | member | NA | NA | NA | NA | NA |\n",
       "| 457C7F4B5D3DA135 | electric_bike | 23-01-2021 12:57 | 23-01-2021 13:02 | California Ave &amp; Cortez St | 17660 | California Ave &amp; North Ave | 13258        | 41.90041 | -87.69673 | 41.91044 | -87.69689 | member | NA | NA | NA | NA | NA |\n",
       "| 57C750326F9FDABE | electric_bike | 09-01-2021 15:28 | 09-01-2021 15:37 | California Ave &amp; Cortez St | 17660 | Wood St &amp; Augusta Blvd     | 657          | 41.90037 | -87.69669 | 41.89918 | -87.67218 | casual | NA | NA | NA | NA | NA |\n",
       "| 4D518C65E338D070 | electric_bike | 09-01-2021 15:28 | 09-01-2021 15:37 | California Ave &amp; Cortez St | 17660 | Wood St &amp; Augusta Blvd     | 657          | 41.90038 | -87.69672 | 41.89915 | -87.67218 | casual | NA | NA | NA | NA | NA |\n",
       "| 9D08A3AFF410474D | classic_bike  | 24-01-2021 15:56 | 24-01-2021 16:07 | California Ave &amp; Cortez St | 17660 | Wood St &amp; Augusta Blvd     | 657          | 41.90036 | -87.69670 | 41.89918 | -87.67220 | casual | NA | NA | NA | NA | NA |\n",
       "| 49FCE1F8598F12C6 | electric_bike | 22-01-2021 15:15 | 22-01-2021 15:36 | California Ave &amp; Cortez St | 17660 | Wells St &amp; Elm St          | KA1504000135 | 41.90037 | -87.69679 | 41.90327 | -87.63446 | member | NA | NA | NA | NA | NA |\n",
       "\n"
      ],
      "text/plain": [
       "  ride_id          rideable_type started_at       ended_at        \n",
       "1 B9F73448DFBE0D45 classic_bike  24-01-2021 19:15 24-01-2021 19:22\n",
       "2 457C7F4B5D3DA135 electric_bike 23-01-2021 12:57 23-01-2021 13:02\n",
       "3 57C750326F9FDABE electric_bike 09-01-2021 15:28 09-01-2021 15:37\n",
       "4 4D518C65E338D070 electric_bike 09-01-2021 15:28 09-01-2021 15:37\n",
       "5 9D08A3AFF410474D classic_bike  24-01-2021 15:56 24-01-2021 16:07\n",
       "6 49FCE1F8598F12C6 electric_bike 22-01-2021 15:15 22-01-2021 15:36\n",
       "  start_station_name         start_station_id end_station_name          \n",
       "1 California Ave & Cortez St 17660            Wood St & Augusta Blvd    \n",
       "2 California Ave & Cortez St 17660            California Ave & North Ave\n",
       "3 California Ave & Cortez St 17660            Wood St & Augusta Blvd    \n",
       "4 California Ave & Cortez St 17660            Wood St & Augusta Blvd    \n",
       "5 California Ave & Cortez St 17660            Wood St & Augusta Blvd    \n",
       "6 California Ave & Cortez St 17660            Wells St & Elm St         \n",
       "  end_station_id start_lat start_lng end_lat  end_lng   member_casual ...14\n",
       "1 657            41.90036  -87.69670 41.89918 -87.67220 member        NA   \n",
       "2 13258          41.90041  -87.69673 41.91044 -87.69689 member        NA   \n",
       "3 657            41.90037  -87.69669 41.89918 -87.67218 casual        NA   \n",
       "4 657            41.90038  -87.69672 41.89915 -87.67218 casual        NA   \n",
       "5 657            41.90036  -87.69670 41.89918 -87.67220 casual        NA   \n",
       "6 KA1504000135   41.90037  -87.69679 41.90327 -87.63446 member        NA   \n",
       "  ...15 ...16 ...17 ...18\n",
       "1 NA    NA    NA    NA   \n",
       "2 NA    NA    NA    NA   \n",
       "3 NA    NA    NA    NA   \n",
       "4 NA    NA    NA    NA   \n",
       "5 NA    NA    NA    NA   \n",
       "6 NA    NA    NA    NA   "
      ]
     },
     "metadata": {},
     "output_type": "display_data"
    }
   ],
   "source": [
    "head (bikerides)"
   ]
  },
  {
   "cell_type": "markdown",
   "id": "e6194728",
   "metadata": {
    "papermill": {
     "duration": 0.023188,
     "end_time": "2024-04-01T09:44:52.526247",
     "exception": false,
     "start_time": "2024-04-01T09:44:52.503059",
     "status": "completed"
    },
    "tags": []
   },
   "source": [
    "**Data cleaning**\n",
    "The time format is currently yyyy-mm-dd hh:mm:ss to do a deeper analysis it is best to format into indiviudal columns and add a day of the week column."
   ]
  },
  {
   "cell_type": "code",
   "execution_count": 9,
   "id": "0f8388eb",
   "metadata": {
    "execution": {
     "iopub.execute_input": "2024-04-01T09:44:52.577782Z",
     "iopub.status.busy": "2024-04-01T09:44:52.575855Z",
     "iopub.status.idle": "2024-04-01T09:46:16.463489Z",
     "shell.execute_reply": "2024-04-01T09:46:16.461283Z"
    },
    "papermill": {
     "duration": 83.916726,
     "end_time": "2024-04-01T09:46:16.467273",
     "exception": false,
     "start_time": "2024-04-01T09:44:52.550547",
     "status": "completed"
    },
    "tags": []
   },
   "outputs": [],
   "source": [
    "# Add columns that list the date, month, day, and year of each ride\n",
    "bikerides$date <- as.Date(bikerides$started_at)\n",
    "\n",
    "bikerides$month <- format(as.Date(bikerides$date), \"%b\")\n",
    "\n",
    "bikerides$day <- format(as.Date(bikerides$date), \"%d\")\n",
    "\n",
    "bikerides$year <- format(as.Date(bikerides$date), \"%Y\")\n",
    "\n",
    "bikerides$day_of_week <- format(as.Date(bikerides$date), \"%A\")"
   ]
  },
  {
   "cell_type": "code",
   "execution_count": 10,
   "id": "aa3e75d6",
   "metadata": {
    "execution": {
     "iopub.execute_input": "2024-04-01T09:46:16.616247Z",
     "iopub.status.busy": "2024-04-01T09:46:16.614500Z",
     "iopub.status.idle": "2024-04-01T09:46:16.679747Z",
     "shell.execute_reply": "2024-04-01T09:46:16.676999Z"
    },
    "papermill": {
     "duration": 0.177481,
     "end_time": "2024-04-01T09:46:16.682819",
     "exception": false,
     "start_time": "2024-04-01T09:46:16.505338",
     "status": "completed"
    },
    "tags": []
   },
   "outputs": [
    {
     "data": {
      "text/html": [
       "<table class=\"dataframe\">\n",
       "<caption>A tibble: 6 × 23</caption>\n",
       "<thead>\n",
       "\t<tr><th scope=col>ride_id</th><th scope=col>rideable_type</th><th scope=col>started_at</th><th scope=col>ended_at</th><th scope=col>start_station_name</th><th scope=col>start_station_id</th><th scope=col>end_station_name</th><th scope=col>end_station_id</th><th scope=col>start_lat</th><th scope=col>start_lng</th><th scope=col>⋯</th><th scope=col>...14</th><th scope=col>...15</th><th scope=col>...16</th><th scope=col>...17</th><th scope=col>...18</th><th scope=col>date</th><th scope=col>month</th><th scope=col>day</th><th scope=col>year</th><th scope=col>day_of_week</th></tr>\n",
       "\t<tr><th scope=col>&lt;chr&gt;</th><th scope=col>&lt;chr&gt;</th><th scope=col>&lt;chr&gt;</th><th scope=col>&lt;chr&gt;</th><th scope=col>&lt;chr&gt;</th><th scope=col>&lt;chr&gt;</th><th scope=col>&lt;chr&gt;</th><th scope=col>&lt;chr&gt;</th><th scope=col>&lt;dbl&gt;</th><th scope=col>&lt;dbl&gt;</th><th scope=col>⋯</th><th scope=col>&lt;lgl&gt;</th><th scope=col>&lt;lgl&gt;</th><th scope=col>&lt;lgl&gt;</th><th scope=col>&lt;lgl&gt;</th><th scope=col>&lt;lgl&gt;</th><th scope=col>&lt;date&gt;</th><th scope=col>&lt;chr&gt;</th><th scope=col>&lt;chr&gt;</th><th scope=col>&lt;chr&gt;</th><th scope=col>&lt;chr&gt;</th></tr>\n",
       "</thead>\n",
       "<tbody>\n",
       "\t<tr><td>B9F73448DFBE0D45</td><td>classic_bike </td><td>24-01-2021 19:15</td><td>24-01-2021 19:22</td><td>California Ave &amp; Cortez St</td><td>17660</td><td><span style=white-space:pre-wrap>Wood St &amp; Augusta Blvd    </span></td><td><span style=white-space:pre-wrap>657         </span></td><td>41.90036</td><td>-87.69670</td><td>⋯</td><td>NA</td><td>NA</td><td>NA</td><td>NA</td><td>NA</td><td>24-01-20</td><td>Jan</td><td>20</td><td>24</td><td>Saturday</td></tr>\n",
       "\t<tr><td>457C7F4B5D3DA135</td><td>electric_bike</td><td>23-01-2021 12:57</td><td>23-01-2021 13:02</td><td>California Ave &amp; Cortez St</td><td>17660</td><td>California Ave &amp; North Ave</td><td><span style=white-space:pre-wrap>13258       </span></td><td>41.90041</td><td>-87.69673</td><td>⋯</td><td>NA</td><td>NA</td><td>NA</td><td>NA</td><td>NA</td><td>23-01-20</td><td>Jan</td><td>20</td><td>23</td><td><span style=white-space:pre-wrap>Friday  </span></td></tr>\n",
       "\t<tr><td>57C750326F9FDABE</td><td>electric_bike</td><td>09-01-2021 15:28</td><td>09-01-2021 15:37</td><td>California Ave &amp; Cortez St</td><td>17660</td><td><span style=white-space:pre-wrap>Wood St &amp; Augusta Blvd    </span></td><td><span style=white-space:pre-wrap>657         </span></td><td>41.90037</td><td>-87.69669</td><td>⋯</td><td>NA</td><td>NA</td><td>NA</td><td>NA</td><td>NA</td><td>9-01-20</td><td>Jan</td><td>20</td><td>9 </td><td>Tuesday </td></tr>\n",
       "\t<tr><td>4D518C65E338D070</td><td>electric_bike</td><td>09-01-2021 15:28</td><td>09-01-2021 15:37</td><td>California Ave &amp; Cortez St</td><td>17660</td><td><span style=white-space:pre-wrap>Wood St &amp; Augusta Blvd    </span></td><td><span style=white-space:pre-wrap>657         </span></td><td>41.90038</td><td>-87.69672</td><td>⋯</td><td>NA</td><td>NA</td><td>NA</td><td>NA</td><td>NA</td><td>9-01-20</td><td>Jan</td><td>20</td><td>9 </td><td>Tuesday </td></tr>\n",
       "\t<tr><td>9D08A3AFF410474D</td><td>classic_bike </td><td>24-01-2021 15:56</td><td>24-01-2021 16:07</td><td>California Ave &amp; Cortez St</td><td>17660</td><td><span style=white-space:pre-wrap>Wood St &amp; Augusta Blvd    </span></td><td><span style=white-space:pre-wrap>657         </span></td><td>41.90036</td><td>-87.69670</td><td>⋯</td><td>NA</td><td>NA</td><td>NA</td><td>NA</td><td>NA</td><td>24-01-20</td><td>Jan</td><td>20</td><td>24</td><td>Saturday</td></tr>\n",
       "\t<tr><td>49FCE1F8598F12C6</td><td>electric_bike</td><td>22-01-2021 15:15</td><td>22-01-2021 15:36</td><td>California Ave &amp; Cortez St</td><td>17660</td><td><span style=white-space:pre-wrap>Wells St &amp; Elm St         </span></td><td>KA1504000135</td><td>41.90037</td><td>-87.69679</td><td>⋯</td><td>NA</td><td>NA</td><td>NA</td><td>NA</td><td>NA</td><td>22-01-20</td><td>Jan</td><td>20</td><td>22</td><td>Thursday</td></tr>\n",
       "</tbody>\n",
       "</table>\n"
      ],
      "text/latex": [
       "A tibble: 6 × 23\n",
       "\\begin{tabular}{lllllllllllllllllllll}\n",
       " ride\\_id & rideable\\_type & started\\_at & ended\\_at & start\\_station\\_name & start\\_station\\_id & end\\_station\\_name & end\\_station\\_id & start\\_lat & start\\_lng & ⋯ & ...14 & ...15 & ...16 & ...17 & ...18 & date & month & day & year & day\\_of\\_week\\\\\n",
       " <chr> & <chr> & <chr> & <chr> & <chr> & <chr> & <chr> & <chr> & <dbl> & <dbl> & ⋯ & <lgl> & <lgl> & <lgl> & <lgl> & <lgl> & <date> & <chr> & <chr> & <chr> & <chr>\\\\\n",
       "\\hline\n",
       "\t B9F73448DFBE0D45 & classic\\_bike  & 24-01-2021 19:15 & 24-01-2021 19:22 & California Ave \\& Cortez St & 17660 & Wood St \\& Augusta Blvd     & 657          & 41.90036 & -87.69670 & ⋯ & NA & NA & NA & NA & NA & 24-01-20 & Jan & 20 & 24 & Saturday\\\\\n",
       "\t 457C7F4B5D3DA135 & electric\\_bike & 23-01-2021 12:57 & 23-01-2021 13:02 & California Ave \\& Cortez St & 17660 & California Ave \\& North Ave & 13258        & 41.90041 & -87.69673 & ⋯ & NA & NA & NA & NA & NA & 23-01-20 & Jan & 20 & 23 & Friday  \\\\\n",
       "\t 57C750326F9FDABE & electric\\_bike & 09-01-2021 15:28 & 09-01-2021 15:37 & California Ave \\& Cortez St & 17660 & Wood St \\& Augusta Blvd     & 657          & 41.90037 & -87.69669 & ⋯ & NA & NA & NA & NA & NA & 9-01-20 & Jan & 20 & 9  & Tuesday \\\\\n",
       "\t 4D518C65E338D070 & electric\\_bike & 09-01-2021 15:28 & 09-01-2021 15:37 & California Ave \\& Cortez St & 17660 & Wood St \\& Augusta Blvd     & 657          & 41.90038 & -87.69672 & ⋯ & NA & NA & NA & NA & NA & 9-01-20 & Jan & 20 & 9  & Tuesday \\\\\n",
       "\t 9D08A3AFF410474D & classic\\_bike  & 24-01-2021 15:56 & 24-01-2021 16:07 & California Ave \\& Cortez St & 17660 & Wood St \\& Augusta Blvd     & 657          & 41.90036 & -87.69670 & ⋯ & NA & NA & NA & NA & NA & 24-01-20 & Jan & 20 & 24 & Saturday\\\\\n",
       "\t 49FCE1F8598F12C6 & electric\\_bike & 22-01-2021 15:15 & 22-01-2021 15:36 & California Ave \\& Cortez St & 17660 & Wells St \\& Elm St          & KA1504000135 & 41.90037 & -87.69679 & ⋯ & NA & NA & NA & NA & NA & 22-01-20 & Jan & 20 & 22 & Thursday\\\\\n",
       "\\end{tabular}\n"
      ],
      "text/markdown": [
       "\n",
       "A tibble: 6 × 23\n",
       "\n",
       "| ride_id &lt;chr&gt; | rideable_type &lt;chr&gt; | started_at &lt;chr&gt; | ended_at &lt;chr&gt; | start_station_name &lt;chr&gt; | start_station_id &lt;chr&gt; | end_station_name &lt;chr&gt; | end_station_id &lt;chr&gt; | start_lat &lt;dbl&gt; | start_lng &lt;dbl&gt; | ⋯ ⋯ | ...14 &lt;lgl&gt; | ...15 &lt;lgl&gt; | ...16 &lt;lgl&gt; | ...17 &lt;lgl&gt; | ...18 &lt;lgl&gt; | date &lt;date&gt; | month &lt;chr&gt; | day &lt;chr&gt; | year &lt;chr&gt; | day_of_week &lt;chr&gt; |\n",
       "|---|---|---|---|---|---|---|---|---|---|---|---|---|---|---|---|---|---|---|---|---|\n",
       "| B9F73448DFBE0D45 | classic_bike  | 24-01-2021 19:15 | 24-01-2021 19:22 | California Ave &amp; Cortez St | 17660 | Wood St &amp; Augusta Blvd     | 657          | 41.90036 | -87.69670 | ⋯ | NA | NA | NA | NA | NA | 24-01-20 | Jan | 20 | 24 | Saturday |\n",
       "| 457C7F4B5D3DA135 | electric_bike | 23-01-2021 12:57 | 23-01-2021 13:02 | California Ave &amp; Cortez St | 17660 | California Ave &amp; North Ave | 13258        | 41.90041 | -87.69673 | ⋯ | NA | NA | NA | NA | NA | 23-01-20 | Jan | 20 | 23 | Friday   |\n",
       "| 57C750326F9FDABE | electric_bike | 09-01-2021 15:28 | 09-01-2021 15:37 | California Ave &amp; Cortez St | 17660 | Wood St &amp; Augusta Blvd     | 657          | 41.90037 | -87.69669 | ⋯ | NA | NA | NA | NA | NA | 9-01-20 | Jan | 20 | 9  | Tuesday  |\n",
       "| 4D518C65E338D070 | electric_bike | 09-01-2021 15:28 | 09-01-2021 15:37 | California Ave &amp; Cortez St | 17660 | Wood St &amp; Augusta Blvd     | 657          | 41.90038 | -87.69672 | ⋯ | NA | NA | NA | NA | NA | 9-01-20 | Jan | 20 | 9  | Tuesday  |\n",
       "| 9D08A3AFF410474D | classic_bike  | 24-01-2021 15:56 | 24-01-2021 16:07 | California Ave &amp; Cortez St | 17660 | Wood St &amp; Augusta Blvd     | 657          | 41.90036 | -87.69670 | ⋯ | NA | NA | NA | NA | NA | 24-01-20 | Jan | 20 | 24 | Saturday |\n",
       "| 49FCE1F8598F12C6 | electric_bike | 22-01-2021 15:15 | 22-01-2021 15:36 | California Ave &amp; Cortez St | 17660 | Wells St &amp; Elm St          | KA1504000135 | 41.90037 | -87.69679 | ⋯ | NA | NA | NA | NA | NA | 22-01-20 | Jan | 20 | 22 | Thursday |\n",
       "\n"
      ],
      "text/plain": [
       "  ride_id          rideable_type started_at       ended_at        \n",
       "1 B9F73448DFBE0D45 classic_bike  24-01-2021 19:15 24-01-2021 19:22\n",
       "2 457C7F4B5D3DA135 electric_bike 23-01-2021 12:57 23-01-2021 13:02\n",
       "3 57C750326F9FDABE electric_bike 09-01-2021 15:28 09-01-2021 15:37\n",
       "4 4D518C65E338D070 electric_bike 09-01-2021 15:28 09-01-2021 15:37\n",
       "5 9D08A3AFF410474D classic_bike  24-01-2021 15:56 24-01-2021 16:07\n",
       "6 49FCE1F8598F12C6 electric_bike 22-01-2021 15:15 22-01-2021 15:36\n",
       "  start_station_name         start_station_id end_station_name          \n",
       "1 California Ave & Cortez St 17660            Wood St & Augusta Blvd    \n",
       "2 California Ave & Cortez St 17660            California Ave & North Ave\n",
       "3 California Ave & Cortez St 17660            Wood St & Augusta Blvd    \n",
       "4 California Ave & Cortez St 17660            Wood St & Augusta Blvd    \n",
       "5 California Ave & Cortez St 17660            Wood St & Augusta Blvd    \n",
       "6 California Ave & Cortez St 17660            Wells St & Elm St         \n",
       "  end_station_id start_lat start_lng ⋯ ...14 ...15 ...16 ...17 ...18 date    \n",
       "1 657            41.90036  -87.69670 ⋯ NA    NA    NA    NA    NA    24-01-20\n",
       "2 13258          41.90041  -87.69673 ⋯ NA    NA    NA    NA    NA    23-01-20\n",
       "3 657            41.90037  -87.69669 ⋯ NA    NA    NA    NA    NA    9-01-20 \n",
       "4 657            41.90038  -87.69672 ⋯ NA    NA    NA    NA    NA    9-01-20 \n",
       "5 657            41.90036  -87.69670 ⋯ NA    NA    NA    NA    NA    24-01-20\n",
       "6 KA1504000135   41.90037  -87.69679 ⋯ NA    NA    NA    NA    NA    22-01-20\n",
       "  month day year day_of_week\n",
       "1 Jan   20  24   Saturday   \n",
       "2 Jan   20  23   Friday     \n",
       "3 Jan   20  9    Tuesday    \n",
       "4 Jan   20  9    Tuesday    \n",
       "5 Jan   20  24   Saturday   \n",
       "6 Jan   20  22   Thursday   "
      ]
     },
     "metadata": {},
     "output_type": "display_data"
    }
   ],
   "source": [
    "head(bikerides)"
   ]
  },
  {
   "cell_type": "markdown",
   "id": "62362432",
   "metadata": {
    "papermill": {
     "duration": 0.022758,
     "end_time": "2024-04-01T09:46:16.728267",
     "exception": false,
     "start_time": "2024-04-01T09:46:16.705509",
     "status": "completed"
    },
    "tags": []
   },
   "source": [
    "**DATA CLEANING**"
   ]
  },
  {
   "cell_type": "markdown",
   "id": "7a8f8a81",
   "metadata": {
    "papermill": {
     "duration": 0.02259,
     "end_time": "2024-04-01T09:46:16.773506",
     "exception": false,
     "start_time": "2024-04-01T09:46:16.750916",
     "status": "completed"
    },
    "tags": []
   },
   "source": [
    "**Removing Duplicates**\n",
    "\n",
    "Removing duplicates to ensure each ride has one unique, corresponding observation/row"
   ]
  },
  {
   "cell_type": "code",
   "execution_count": 11,
   "id": "11ab1adb",
   "metadata": {
    "execution": {
     "iopub.execute_input": "2024-04-01T09:46:16.826991Z",
     "iopub.status.busy": "2024-04-01T09:46:16.823167Z",
     "iopub.status.idle": "2024-04-01T09:46:20.253744Z",
     "shell.execute_reply": "2024-04-01T09:46:20.251052Z"
    },
    "papermill": {
     "duration": 3.461301,
     "end_time": "2024-04-01T09:46:20.257353",
     "exception": false,
     "start_time": "2024-04-01T09:46:16.796052",
     "status": "completed"
    },
    "tags": []
   },
   "outputs": [
    {
     "name": "stdout",
     "output_type": "stream",
     "text": [
      "[1] \"Removed 1436 duplicate rows\"\n"
     ]
    }
   ],
   "source": [
    "# Remove duplicates from dataframe\n",
    "bikerides_no_duplicates <- bikerides[!duplicated(bikerides$ride_id), ]\n",
    "print(paste(\"Removed\", nrow(bikerides) - nrow(bikerides_no_duplicates), \"duplicate rows\"))"
   ]
  },
  {
   "cell_type": "markdown",
   "id": "f2a0b00c",
   "metadata": {
    "papermill": {
     "duration": 0.023427,
     "end_time": "2024-04-01T09:46:20.304241",
     "exception": false,
     "start_time": "2024-04-01T09:46:20.280814",
     "status": "completed"
    },
    "tags": []
   },
   "source": [
    "**DATA MANIPULATION**\n",
    "\n",
    "Clean the data, and prepare the data for analysis:"
   ]
  },
  {
   "cell_type": "code",
   "execution_count": 12,
   "id": "f37ac0be",
   "metadata": {
    "execution": {
     "iopub.execute_input": "2024-04-01T09:46:20.355653Z",
     "iopub.status.busy": "2024-04-01T09:46:20.353685Z",
     "iopub.status.idle": "2024-04-01T09:47:13.437125Z",
     "shell.execute_reply": "2024-04-01T09:47:13.434968Z"
    },
    "papermill": {
     "duration": 53.136078,
     "end_time": "2024-04-01T09:47:13.463644",
     "exception": false,
     "start_time": "2024-04-01T09:46:20.327566",
     "status": "completed"
    },
    "tags": []
   },
   "outputs": [
    {
     "name": "stdout",
     "output_type": "stream",
     "text": [
      "tibble [4,662,844 × 24] (S3: tbl_df/tbl/data.frame)\n",
      " $ ride_id           : chr [1:4662844] \"B9F73448DFBE0D45\" \"457C7F4B5D3DA135\" \"57C750326F9FDABE\" \"4D518C65E338D070\" ...\n",
      " $ rideable_type     : chr [1:4662844] \"classic_bike\" \"electric_bike\" \"electric_bike\" \"electric_bike\" ...\n",
      " $ started_at        : chr [1:4662844] \"24-01-2021 19:15\" \"23-01-2021 12:57\" \"09-01-2021 15:28\" \"09-01-2021 15:28\" ...\n",
      " $ ended_at          : chr [1:4662844] \"24-01-2021 19:22\" \"23-01-2021 13:02\" \"09-01-2021 15:37\" \"09-01-2021 15:37\" ...\n",
      " $ start_station_name: chr [1:4662844] \"California Ave & Cortez St\" \"California Ave & Cortez St\" \"California Ave & Cortez St\" \"California Ave & Cortez St\" ...\n",
      " $ start_station_id  : chr [1:4662844] \"17660\" \"17660\" \"17660\" \"17660\" ...\n",
      " $ end_station_name  : chr [1:4662844] \"Wood St & Augusta Blvd\" \"California Ave & North Ave\" \"Wood St & Augusta Blvd\" \"Wood St & Augusta Blvd\" ...\n",
      " $ end_station_id    : chr [1:4662844] \"657\" \"13258\" \"657\" \"657\" ...\n",
      " $ start_lat         : num [1:4662844] 41.9 41.9 41.9 41.9 41.9 ...\n",
      " $ start_lng         : num [1:4662844] -87.7 -87.7 -87.7 -87.7 -87.7 ...\n",
      " $ end_lat           : num [1:4662844] 41.9 41.9 41.9 41.9 41.9 ...\n",
      " $ end_lng           : num [1:4662844] -87.7 -87.7 -87.7 -87.7 -87.7 ...\n",
      " $ member_casual     : chr [1:4662844] \"member\" \"member\" \"casual\" \"casual\" ...\n",
      " $ ...14             : logi [1:4662844] NA NA NA NA NA NA ...\n",
      " $ ...15             : logi [1:4662844] NA NA NA NA NA NA ...\n",
      " $ ...16             : logi [1:4662844] NA NA NA NA NA NA ...\n",
      " $ ...17             : logi [1:4662844] NA NA NA NA NA NA ...\n",
      " $ ...18             : logi [1:4662844] NA NA NA NA NA NA ...\n",
      " $ date              : Date[1:4662844], format: \"24-01-20\" \"23-01-20\" ...\n",
      " $ month             : chr [1:4662844] \"Jan\" \"Jan\" \"Jan\" \"Jan\" ...\n",
      " $ day               : chr [1:4662844] \"20\" \"20\" \"20\" \"20\" ...\n",
      " $ year              : chr [1:4662844] \"24\" \"23\" \"9\" \"9\" ...\n",
      " $ day_of_week       : chr [1:4662844] \"Saturday\" \"Friday\" \"Tuesday\" \"Tuesday\" ...\n",
      " $ ride_length       : 'difftime' num [1:4662844] 0 0 0 0 ...\n",
      "  ..- attr(*, \"units\")= chr \"mins\"\n"
     ]
    }
   ],
   "source": [
    "# Creating a column to determine the ride length \n",
    "bikerides_v2 <- mutate(bikerides_no_duplicates, ride_length = difftime(ended_at, started_at, units = \"mins\"))\n",
    "str(bikerides_v2)"
   ]
  },
  {
   "cell_type": "code",
   "execution_count": 13,
   "id": "9a4fc5fa",
   "metadata": {
    "execution": {
     "iopub.execute_input": "2024-04-01T09:47:13.514928Z",
     "iopub.status.busy": "2024-04-01T09:47:13.513013Z",
     "iopub.status.idle": "2024-04-01T09:47:16.094372Z",
     "shell.execute_reply": "2024-04-01T09:47:16.091775Z"
    },
    "papermill": {
     "duration": 2.611324,
     "end_time": "2024-04-01T09:47:16.098078",
     "exception": false,
     "start_time": "2024-04-01T09:47:13.486754",
     "status": "completed"
    },
    "tags": []
   },
   "outputs": [
    {
     "data": {
      "text/html": [
       "1165"
      ],
      "text/latex": [
       "1165"
      ],
      "text/markdown": [
       "1165"
      ],
      "text/plain": [
       "[1] 1165"
      ]
     },
     "metadata": {},
     "output_type": "display_data"
    },
    {
     "name": "stdout",
     "output_type": "stream",
     "text": [
      "Rows: 4,661,679\n",
      "Columns: 24\n",
      "$ ride_id            \u001b[3m\u001b[90m<chr>\u001b[39m\u001b[23m \"B9F73448DFBE0D45\", \"457C7F4B5D3DA135\", \"57C750326F…\n",
      "$ rideable_type      \u001b[3m\u001b[90m<chr>\u001b[39m\u001b[23m \"classic_bike\", \"electric_bike\", \"electric_bike\", \"…\n",
      "$ started_at         \u001b[3m\u001b[90m<chr>\u001b[39m\u001b[23m \"24-01-2021 19:15\", \"23-01-2021 12:57\", \"09-01-2021…\n",
      "$ ended_at           \u001b[3m\u001b[90m<chr>\u001b[39m\u001b[23m \"24-01-2021 19:22\", \"23-01-2021 13:02\", \"09-01-2021…\n",
      "$ start_station_name \u001b[3m\u001b[90m<chr>\u001b[39m\u001b[23m \"California Ave & Cortez St\", \"California Ave & Cor…\n",
      "$ start_station_id   \u001b[3m\u001b[90m<chr>\u001b[39m\u001b[23m \"17660\", \"17660\", \"17660\", \"17660\", \"17660\", \"17660…\n",
      "$ end_station_name   \u001b[3m\u001b[90m<chr>\u001b[39m\u001b[23m \"Wood St & Augusta Blvd\", \"California Ave & North A…\n",
      "$ end_station_id     \u001b[3m\u001b[90m<chr>\u001b[39m\u001b[23m \"657\", \"13258\", \"657\", \"657\", \"657\", \"KA1504000135\"…\n",
      "$ start_lat          \u001b[3m\u001b[90m<dbl>\u001b[39m\u001b[23m 41.90036, 41.90041, 41.90037, 41.90038, 41.90036, 4…\n",
      "$ start_lng          \u001b[3m\u001b[90m<dbl>\u001b[39m\u001b[23m -87.69670, -87.69673, -87.69669, -87.69672, -87.696…\n",
      "$ end_lat            \u001b[3m\u001b[90m<dbl>\u001b[39m\u001b[23m 41.89918, 41.91044, 41.89918, 41.89915, 41.89918, 4…\n",
      "$ end_lng            \u001b[3m\u001b[90m<dbl>\u001b[39m\u001b[23m -87.67220, -87.69689, -87.67218, -87.67218, -87.672…\n",
      "$ member_casual      \u001b[3m\u001b[90m<chr>\u001b[39m\u001b[23m \"member\", \"member\", \"casual\", \"casual\", \"casual\", \"…\n",
      "$ ...14              \u001b[3m\u001b[90m<lgl>\u001b[39m\u001b[23m NA, NA, NA, NA, NA, NA, NA, NA, NA, NA, NA, NA, NA,…\n",
      "$ ...15              \u001b[3m\u001b[90m<lgl>\u001b[39m\u001b[23m NA, NA, NA, NA, NA, NA, NA, NA, NA, NA, NA, NA, NA,…\n",
      "$ ...16              \u001b[3m\u001b[90m<lgl>\u001b[39m\u001b[23m NA, NA, NA, NA, NA, NA, NA, NA, NA, NA, NA, NA, NA,…\n",
      "$ ...17              \u001b[3m\u001b[90m<lgl>\u001b[39m\u001b[23m NA, NA, NA, NA, NA, NA, NA, NA, NA, NA, NA, NA, NA,…\n",
      "$ ...18              \u001b[3m\u001b[90m<lgl>\u001b[39m\u001b[23m NA, NA, NA, NA, NA, NA, NA, NA, NA, NA, NA, NA, NA,…\n",
      "$ date               \u001b[3m\u001b[90m<date>\u001b[39m\u001b[23m 24-01-20, 23-01-20, 9-01-20, 9-01-20, 24-01-20, 22…\n",
      "$ month              \u001b[3m\u001b[90m<chr>\u001b[39m\u001b[23m \"Jan\", \"Jan\", \"Jan\", \"Jan\", \"Jan\", \"Jan\", \"Jan\", \"J…\n",
      "$ day                \u001b[3m\u001b[90m<chr>\u001b[39m\u001b[23m \"20\", \"20\", \"20\", \"20\", \"20\", \"20\", \"20\", \"20\", \"20…\n",
      "$ year               \u001b[3m\u001b[90m<chr>\u001b[39m\u001b[23m \"24\", \"23\", \"9\", \"9\", \"24\", \"22\", \"5\", \"30\", \"27\", …\n",
      "$ day_of_week        \u001b[3m\u001b[90m<chr>\u001b[39m\u001b[23m \"Saturday\", \"Friday\", \"Tuesday\", \"Tuesday\", \"Saturd…\n",
      "$ ride_length        \u001b[3m\u001b[90m<drtn>\u001b[39m\u001b[23m 0 mins, 0 mins, 0 mins, 0 mins, 0 mins, 0 mins, 0 …\n"
     ]
    }
   ],
   "source": [
    "# filtering out trips with a ride length less than 0.\n",
    "nrow(bikerides_v2[bikerides_v2$ride_length < 0,])\n",
    "bikerides_v3 <- bikerides_v2[!bikerides_v2$ride_length <0,]\n",
    "glimpse(bikerides_v3)"
   ]
  },
  {
   "cell_type": "code",
   "execution_count": 14,
   "id": "5e845fbf",
   "metadata": {
    "execution": {
     "iopub.execute_input": "2024-04-01T09:47:16.150167Z",
     "iopub.status.busy": "2024-04-01T09:47:16.148297Z",
     "iopub.status.idle": "2024-04-01T09:47:16.429113Z",
     "shell.execute_reply": "2024-04-01T09:47:16.426829Z"
    },
    "papermill": {
     "duration": 0.309966,
     "end_time": "2024-04-01T09:47:16.431875",
     "exception": false,
     "start_time": "2024-04-01T09:47:16.121909",
     "status": "completed"
    },
    "tags": []
   },
   "outputs": [
    {
     "data": {
      "text/plain": [
       "\n",
       " casual  member \n",
       "2077441 2584238 "
      ]
     },
     "metadata": {},
     "output_type": "display_data"
    }
   ],
   "source": [
    "# determining the amount of members vs casual riders\n",
    "rider_type_total <- table(bikerides_v3$member_casual)\n",
    "View(rider_type_total)"
   ]
  },
  {
   "cell_type": "markdown",
   "id": "2c5018c8",
   "metadata": {
    "papermill": {
     "duration": 0.023326,
     "end_time": "2024-04-01T09:47:16.478761",
     "exception": false,
     "start_time": "2024-04-01T09:47:16.455435",
     "status": "completed"
    },
    "tags": []
   },
   "source": [
    "# ANALYZE"
   ]
  },
  {
   "cell_type": "markdown",
   "id": "d162955c",
   "metadata": {
    "papermill": {
     "duration": 0.0325,
     "end_time": "2024-04-01T09:47:16.544268",
     "exception": false,
     "start_time": "2024-04-01T09:47:16.511768",
     "status": "completed"
    },
    "tags": []
   },
   "source": [
    "I have used the useful functions from the dplyr package to group and aggregate the cleaned data to our choosing. Then to visualize we'll use the ggplot package. "
   ]
  },
  {
   "cell_type": "code",
   "execution_count": 15,
   "id": "39b7e062",
   "metadata": {
    "execution": {
     "iopub.execute_input": "2024-04-01T09:47:16.602788Z",
     "iopub.status.busy": "2024-04-01T09:47:16.600757Z",
     "iopub.status.idle": "2024-04-01T09:47:17.490870Z",
     "shell.execute_reply": "2024-04-01T09:47:17.488153Z"
    },
    "papermill": {
     "duration": 0.919838,
     "end_time": "2024-04-01T09:47:17.494450",
     "exception": false,
     "start_time": "2024-04-01T09:47:16.574612",
     "status": "completed"
    },
    "tags": []
   },
   "outputs": [
    {
     "data": {
      "text/html": [
       "<table class=\"dataframe\">\n",
       "<caption>A tibble: 2 × 6</caption>\n",
       "<thead>\n",
       "\t<tr><th scope=col>member_casual</th><th scope=col>average_ride_length</th><th scope=col>standard_deviation</th><th scope=col>median_ride_length</th><th scope=col>min_ride_length</th><th scope=col>max_ride_length</th></tr>\n",
       "\t<tr><th scope=col>&lt;chr&gt;</th><th scope=col>&lt;drtn&gt;</th><th scope=col>&lt;dbl&gt;</th><th scope=col>&lt;drtn&gt;</th><th scope=col>&lt;drtn&gt;</th><th scope=col>&lt;drtn&gt;</th></tr>\n",
       "</thead>\n",
       "<tbody>\n",
       "\t<tr><td>casual</td><td>7247.672 mins</td><td>93628.43</td><td>0 mins</td><td>0 mins</td><td>15252480 mins</td></tr>\n",
       "\t<tr><td>member</td><td>1502.776 mins</td><td>28088.56</td><td>0 mins</td><td>0 mins</td><td> 1052640 mins</td></tr>\n",
       "</tbody>\n",
       "</table>\n"
      ],
      "text/latex": [
       "A tibble: 2 × 6\n",
       "\\begin{tabular}{llllll}\n",
       " member\\_casual & average\\_ride\\_length & standard\\_deviation & median\\_ride\\_length & min\\_ride\\_length & max\\_ride\\_length\\\\\n",
       " <chr> & <drtn> & <dbl> & <drtn> & <drtn> & <drtn>\\\\\n",
       "\\hline\n",
       "\t casual & 7247.672 mins & 93628.43 & 0 mins & 0 mins & 15252480 mins\\\\\n",
       "\t member & 1502.776 mins & 28088.56 & 0 mins & 0 mins &  1052640 mins\\\\\n",
       "\\end{tabular}\n"
      ],
      "text/markdown": [
       "\n",
       "A tibble: 2 × 6\n",
       "\n",
       "| member_casual &lt;chr&gt; | average_ride_length &lt;drtn&gt; | standard_deviation &lt;dbl&gt; | median_ride_length &lt;drtn&gt; | min_ride_length &lt;drtn&gt; | max_ride_length &lt;drtn&gt; |\n",
       "|---|---|---|---|---|---|\n",
       "| casual | 7247.672 mins | 93628.43 | 0 mins | 0 mins | 15252480 mins |\n",
       "| member | 1502.776 mins | 28088.56 | 0 mins | 0 mins |  1052640 mins |\n",
       "\n"
      ],
      "text/plain": [
       "  member_casual average_ride_length standard_deviation median_ride_length\n",
       "1 casual        7247.672 mins       93628.43           0 mins            \n",
       "2 member        1502.776 mins       28088.56           0 mins            \n",
       "  min_ride_length max_ride_length\n",
       "1 0 mins          15252480 mins  \n",
       "2 0 mins           1052640 mins  "
      ]
     },
     "metadata": {},
     "output_type": "display_data"
    }
   ],
   "source": [
    "# Statistical analysis\n",
    "trip_stats <- bikerides_v3 %>%\n",
    "  group_by(member_casual) %>%\n",
    "  summarise(average_ride_length = mean(ride_length), standard_deviation = sd(ride_length), median_ride_length = median(ride_length), min_ride_length = min(ride_length), max_ride_length = max(ride_length))\n",
    "head(trip_stats)"
   ]
  },
  {
   "cell_type": "code",
   "execution_count": 16,
   "id": "73fc3381",
   "metadata": {
    "execution": {
     "iopub.execute_input": "2024-04-01T09:47:17.547039Z",
     "iopub.status.busy": "2024-04-01T09:47:17.544902Z",
     "iopub.status.idle": "2024-04-01T09:47:17.894915Z",
     "shell.execute_reply": "2024-04-01T09:47:17.892086Z"
    },
    "papermill": {
     "duration": 0.379955,
     "end_time": "2024-04-01T09:47:17.898394",
     "exception": false,
     "start_time": "2024-04-01T09:47:17.518439",
     "status": "completed"
    },
    "tags": []
   },
   "outputs": [
    {
     "name": "stdout",
     "output_type": "stream",
     "text": [
      "[1] \"Sunday\"\n"
     ]
    }
   ],
   "source": [
    "# Determine the mode for the day of the week\n",
    "getmode <- function(v) {\n",
    "  uniqv <- unique(v)\n",
    "  uniqv[which.max(tabulate(match(v, uniqv)))]\n",
    "}\n",
    "\n",
    "weekday_mode <- getmode(bikerides_v3$day_of_week)\n",
    "print(weekday_mode)"
   ]
  },
  {
   "cell_type": "code",
   "execution_count": 17,
   "id": "fb86da28",
   "metadata": {
    "execution": {
     "iopub.execute_input": "2024-04-01T09:47:17.953104Z",
     "iopub.status.busy": "2024-04-01T09:47:17.951112Z",
     "iopub.status.idle": "2024-04-01T09:47:18.980943Z",
     "shell.execute_reply": "2024-04-01T09:47:18.978857Z"
    },
    "papermill": {
     "duration": 1.060578,
     "end_time": "2024-04-01T09:47:18.984000",
     "exception": false,
     "start_time": "2024-04-01T09:47:17.923422",
     "status": "completed"
    },
    "tags": []
   },
   "outputs": [
    {
     "name": "stderr",
     "output_type": "stream",
     "text": [
      "\u001b[1m\u001b[22m`summarise()` has grouped output by 'member_casual'. You can override using the\n",
      "`.groups` argument.\n"
     ]
    },
    {
     "data": {
      "text/html": [
       "<table class=\"dataframe\">\n",
       "<caption>A grouped_df: 14 × 4</caption>\n",
       "<thead>\n",
       "\t<tr><th scope=col>member_casual</th><th scope=col>day_of_week</th><th scope=col>rider_type_total</th><th scope=col>average_ride_length</th></tr>\n",
       "\t<tr><th scope=col>&lt;chr&gt;</th><th scope=col>&lt;ord&gt;</th><th scope=col>&lt;int&gt;</th><th scope=col>&lt;drtn&gt;</th></tr>\n",
       "</thead>\n",
       "<tbody>\n",
       "\t<tr><td>casual</td><td>Monday   </td><td>308704</td><td>8049.015 mins</td></tr>\n",
       "\t<tr><td>casual</td><td>Tuesday  </td><td>302207</td><td>7164.916 mins</td></tr>\n",
       "\t<tr><td>casual</td><td>Wednesday</td><td>286192</td><td>7549.756 mins</td></tr>\n",
       "\t<tr><td>casual</td><td>Thursday </td><td>295279</td><td>7835.669 mins</td></tr>\n",
       "\t<tr><td>casual</td><td>Friday   </td><td>293559</td><td>6583.554 mins</td></tr>\n",
       "\t<tr><td>casual</td><td>Saturday </td><td>285799</td><td>6717.044 mins</td></tr>\n",
       "\t<tr><td>casual</td><td>Sunday   </td><td>305701</td><td>6803.335 mins</td></tr>\n",
       "\t<tr><td>member</td><td>Monday   </td><td>364410</td><td>1538.478 mins</td></tr>\n",
       "\t<tr><td>member</td><td>Tuesday  </td><td>367731</td><td>1576.058 mins</td></tr>\n",
       "\t<tr><td>member</td><td>Wednesday</td><td>364366</td><td>1493.792 mins</td></tr>\n",
       "\t<tr><td>member</td><td>Thursday </td><td>371902</td><td>1533.179 mins</td></tr>\n",
       "\t<tr><td>member</td><td>Friday   </td><td>374282</td><td>1322.194 mins</td></tr>\n",
       "\t<tr><td>member</td><td>Saturday </td><td>369812</td><td>1570.164 mins</td></tr>\n",
       "\t<tr><td>member</td><td>Sunday   </td><td>371735</td><td>1488.453 mins</td></tr>\n",
       "</tbody>\n",
       "</table>\n"
      ],
      "text/latex": [
       "A grouped\\_df: 14 × 4\n",
       "\\begin{tabular}{llll}\n",
       " member\\_casual & day\\_of\\_week & rider\\_type\\_total & average\\_ride\\_length\\\\\n",
       " <chr> & <ord> & <int> & <drtn>\\\\\n",
       "\\hline\n",
       "\t casual & Monday    & 308704 & 8049.015 mins\\\\\n",
       "\t casual & Tuesday   & 302207 & 7164.916 mins\\\\\n",
       "\t casual & Wednesday & 286192 & 7549.756 mins\\\\\n",
       "\t casual & Thursday  & 295279 & 7835.669 mins\\\\\n",
       "\t casual & Friday    & 293559 & 6583.554 mins\\\\\n",
       "\t casual & Saturday  & 285799 & 6717.044 mins\\\\\n",
       "\t casual & Sunday    & 305701 & 6803.335 mins\\\\\n",
       "\t member & Monday    & 364410 & 1538.478 mins\\\\\n",
       "\t member & Tuesday   & 367731 & 1576.058 mins\\\\\n",
       "\t member & Wednesday & 364366 & 1493.792 mins\\\\\n",
       "\t member & Thursday  & 371902 & 1533.179 mins\\\\\n",
       "\t member & Friday    & 374282 & 1322.194 mins\\\\\n",
       "\t member & Saturday  & 369812 & 1570.164 mins\\\\\n",
       "\t member & Sunday    & 371735 & 1488.453 mins\\\\\n",
       "\\end{tabular}\n"
      ],
      "text/markdown": [
       "\n",
       "A grouped_df: 14 × 4\n",
       "\n",
       "| member_casual &lt;chr&gt; | day_of_week &lt;ord&gt; | rider_type_total &lt;int&gt; | average_ride_length &lt;drtn&gt; |\n",
       "|---|---|---|---|\n",
       "| casual | Monday    | 308704 | 8049.015 mins |\n",
       "| casual | Tuesday   | 302207 | 7164.916 mins |\n",
       "| casual | Wednesday | 286192 | 7549.756 mins |\n",
       "| casual | Thursday  | 295279 | 7835.669 mins |\n",
       "| casual | Friday    | 293559 | 6583.554 mins |\n",
       "| casual | Saturday  | 285799 | 6717.044 mins |\n",
       "| casual | Sunday    | 305701 | 6803.335 mins |\n",
       "| member | Monday    | 364410 | 1538.478 mins |\n",
       "| member | Tuesday   | 367731 | 1576.058 mins |\n",
       "| member | Wednesday | 364366 | 1493.792 mins |\n",
       "| member | Thursday  | 371902 | 1533.179 mins |\n",
       "| member | Friday    | 374282 | 1322.194 mins |\n",
       "| member | Saturday  | 369812 | 1570.164 mins |\n",
       "| member | Sunday    | 371735 | 1488.453 mins |\n",
       "\n"
      ],
      "text/plain": [
       "   member_casual day_of_week rider_type_total average_ride_length\n",
       "1  casual        Monday      308704           8049.015 mins      \n",
       "2  casual        Tuesday     302207           7164.916 mins      \n",
       "3  casual        Wednesday   286192           7549.756 mins      \n",
       "4  casual        Thursday    295279           7835.669 mins      \n",
       "5  casual        Friday      293559           6583.554 mins      \n",
       "6  casual        Saturday    285799           6717.044 mins      \n",
       "7  casual        Sunday      305701           6803.335 mins      \n",
       "8  member        Monday      364410           1538.478 mins      \n",
       "9  member        Tuesday     367731           1576.058 mins      \n",
       "10 member        Wednesday   364366           1493.792 mins      \n",
       "11 member        Thursday    371902           1533.179 mins      \n",
       "12 member        Friday      374282           1322.194 mins      \n",
       "13 member        Saturday    369812           1570.164 mins      \n",
       "14 member        Sunday      371735           1488.453 mins      "
      ]
     },
     "metadata": {},
     "output_type": "display_data"
    }
   ],
   "source": [
    "# Analyze ridership data by type and weekday\n",
    "bikerides_v3$day_of_week <- ordered(bikerides_v3$day_of_week, levels = c(\"Monday\", \"Tuesday\", \"Wednesday\", \"Thursday\", \"Friday\", \"Saturday\", \"Sunday\"))\n",
    "bikerides_v3 %>%\n",
    "  group_by(member_casual, day_of_week) %>%\n",
    "  summarise(rider_type_total = n(), average_ride_length = mean(ride_length)) %>%\n",
    "  arrange(member_casual, day_of_week)"
   ]
  },
  {
   "cell_type": "code",
   "execution_count": 18,
   "id": "0db729c0",
   "metadata": {
    "execution": {
     "iopub.execute_input": "2024-04-01T09:47:19.044475Z",
     "iopub.status.busy": "2024-04-01T09:47:19.042241Z",
     "iopub.status.idle": "2024-04-01T09:47:19.251598Z",
     "shell.execute_reply": "2024-04-01T09:47:19.249149Z"
    },
    "papermill": {
     "duration": 0.241234,
     "end_time": "2024-04-01T09:47:19.254856",
     "exception": false,
     "start_time": "2024-04-01T09:47:19.013622",
     "status": "completed"
    },
    "tags": []
   },
   "outputs": [
    {
     "data": {
      "text/html": [
       "<table class=\"dataframe\">\n",
       "<caption>A tibble: 12 × 3</caption>\n",
       "<thead>\n",
       "\t<tr><th scope=col>month</th><th scope=col>number_of_rides</th><th scope=col>average_duration</th></tr>\n",
       "\t<tr><th scope=col>&lt;chr&gt;</th><th scope=col>&lt;int&gt;</th><th scope=col>&lt;drtn&gt;</th></tr>\n",
       "</thead>\n",
       "<tbody>\n",
       "\t<tr><td>Jul</td><td>692805</td><td>4833.851 mins</td></tr>\n",
       "\t<tr><td>Aug</td><td>675270</td><td>3860.299 mins</td></tr>\n",
       "\t<tr><td>Sep</td><td>621882</td><td>3593.445 mins</td></tr>\n",
       "\t<tr><td>Jun</td><td>609646</td><td>6088.695 mins</td></tr>\n",
       "\t<tr><td>Oct</td><td>479199</td><td>2897.234 mins</td></tr>\n",
       "\t<tr><td>May</td><td>450756</td><td>5113.163 mins</td></tr>\n",
       "\t<tr><td>Apr</td><td>337095</td><td>4376.870 mins</td></tr>\n",
       "\t<tr><td>Nov</td><td>256594</td><td>1809.886 mins</td></tr>\n",
       "\t<tr><td>Mar</td><td>228450</td><td>3161.110 mins</td></tr>\n",
       "\t<tr><td>Dec</td><td>176666</td><td>1956.160 mins</td></tr>\n",
       "\t<tr><td>Jan</td><td> 83708</td><td>1407.642 mins</td></tr>\n",
       "\t<tr><td>Feb</td><td> 49608</td><td>4420.522 mins</td></tr>\n",
       "</tbody>\n",
       "</table>\n"
      ],
      "text/latex": [
       "A tibble: 12 × 3\n",
       "\\begin{tabular}{lll}\n",
       " month & number\\_of\\_rides & average\\_duration\\\\\n",
       " <chr> & <int> & <drtn>\\\\\n",
       "\\hline\n",
       "\t Jul & 692805 & 4833.851 mins\\\\\n",
       "\t Aug & 675270 & 3860.299 mins\\\\\n",
       "\t Sep & 621882 & 3593.445 mins\\\\\n",
       "\t Jun & 609646 & 6088.695 mins\\\\\n",
       "\t Oct & 479199 & 2897.234 mins\\\\\n",
       "\t May & 450756 & 5113.163 mins\\\\\n",
       "\t Apr & 337095 & 4376.870 mins\\\\\n",
       "\t Nov & 256594 & 1809.886 mins\\\\\n",
       "\t Mar & 228450 & 3161.110 mins\\\\\n",
       "\t Dec & 176666 & 1956.160 mins\\\\\n",
       "\t Jan &  83708 & 1407.642 mins\\\\\n",
       "\t Feb &  49608 & 4420.522 mins\\\\\n",
       "\\end{tabular}\n"
      ],
      "text/markdown": [
       "\n",
       "A tibble: 12 × 3\n",
       "\n",
       "| month &lt;chr&gt; | number_of_rides &lt;int&gt; | average_duration &lt;drtn&gt; |\n",
       "|---|---|---|\n",
       "| Jul | 692805 | 4833.851 mins |\n",
       "| Aug | 675270 | 3860.299 mins |\n",
       "| Sep | 621882 | 3593.445 mins |\n",
       "| Jun | 609646 | 6088.695 mins |\n",
       "| Oct | 479199 | 2897.234 mins |\n",
       "| May | 450756 | 5113.163 mins |\n",
       "| Apr | 337095 | 4376.870 mins |\n",
       "| Nov | 256594 | 1809.886 mins |\n",
       "| Mar | 228450 | 3161.110 mins |\n",
       "| Dec | 176666 | 1956.160 mins |\n",
       "| Jan |  83708 | 1407.642 mins |\n",
       "| Feb |  49608 | 4420.522 mins |\n",
       "\n"
      ],
      "text/plain": [
       "   month number_of_rides average_duration\n",
       "1  Jul   692805          4833.851 mins   \n",
       "2  Aug   675270          3860.299 mins   \n",
       "3  Sep   621882          3593.445 mins   \n",
       "4  Jun   609646          6088.695 mins   \n",
       "5  Oct   479199          2897.234 mins   \n",
       "6  May   450756          5113.163 mins   \n",
       "7  Apr   337095          4376.870 mins   \n",
       "8  Nov   256594          1809.886 mins   \n",
       "9  Mar   228450          3161.110 mins   \n",
       "10 Dec   176666          1956.160 mins   \n",
       "11 Jan    83708          1407.642 mins   \n",
       "12 Feb    49608          4420.522 mins   "
      ]
     },
     "metadata": {},
     "output_type": "display_data"
    }
   ],
   "source": [
    "# Determining the most popular months during 2021\n",
    "popular_month <- bikerides_v3 %>%\n",
    "  group_by(month) %>%\n",
    "  summarise(number_of_rides = n(), average_duration = mean(ride_length)) %>%\n",
    "  arrange(-number_of_rides)\n",
    "\n",
    "View(popular_month)"
   ]
  },
  {
   "cell_type": "code",
   "execution_count": 19,
   "id": "da19b88f",
   "metadata": {
    "execution": {
     "iopub.execute_input": "2024-04-01T09:47:19.311997Z",
     "iopub.status.busy": "2024-04-01T09:47:19.310078Z",
     "iopub.status.idle": "2024-04-01T09:47:19.555706Z",
     "shell.execute_reply": "2024-04-01T09:47:19.552926Z"
    },
    "papermill": {
     "duration": 0.276714,
     "end_time": "2024-04-01T09:47:19.559090",
     "exception": false,
     "start_time": "2024-04-01T09:47:19.282376",
     "status": "completed"
    },
    "tags": []
   },
   "outputs": [
    {
     "name": "stdout",
     "output_type": "stream",
     "text": [
      "[1] \"Streeter Dr & Grand Ave\"\n"
     ]
    }
   ],
   "source": [
    "# Determine the most popular start station\n",
    "station_mode <- getmode(bikerides_v3$start_station_name)\n",
    "\n",
    "print(station_mode)"
   ]
  },
  {
   "cell_type": "code",
   "execution_count": 20,
   "id": "4f871313",
   "metadata": {
    "execution": {
     "iopub.execute_input": "2024-04-01T09:47:19.614186Z",
     "iopub.status.busy": "2024-04-01T09:47:19.612278Z",
     "iopub.status.idle": "2024-04-01T09:47:21.234512Z",
     "shell.execute_reply": "2024-04-01T09:47:21.231751Z"
    },
    "papermill": {
     "duration": 1.653799,
     "end_time": "2024-04-01T09:47:21.238081",
     "exception": false,
     "start_time": "2024-04-01T09:47:19.584282",
     "status": "completed"
    },
    "tags": []
   },
   "outputs": [
    {
     "data": {
      "text/html": [
       "<table class=\"dataframe\">\n",
       "<caption>A tibble: 6 × 2</caption>\n",
       "<thead>\n",
       "\t<tr><th scope=col>start_station_name</th><th scope=col>number_of_starts</th></tr>\n",
       "\t<tr><th scope=col>&lt;chr&gt;</th><th scope=col>&lt;int&gt;</th></tr>\n",
       "</thead>\n",
       "<tbody>\n",
       "\t<tr><td><span style=white-space:pre-wrap>Clark St &amp; Elm St       </span></td><td>24002</td></tr>\n",
       "\t<tr><td>Kingsbury St &amp; Kinzie St</td><td>22898</td></tr>\n",
       "\t<tr><td><span style=white-space:pre-wrap>Wells St &amp; Concord Ln   </span></td><td>22862</td></tr>\n",
       "\t<tr><td><span style=white-space:pre-wrap>Wells St &amp; Elm St       </span></td><td>20324</td></tr>\n",
       "\t<tr><td><span style=white-space:pre-wrap>Dearborn St &amp; Erie St   </span></td><td>18861</td></tr>\n",
       "\t<tr><td><span style=white-space:pre-wrap>St. Clair St &amp; Erie St  </span></td><td>18349</td></tr>\n",
       "</tbody>\n",
       "</table>\n"
      ],
      "text/latex": [
       "A tibble: 6 × 2\n",
       "\\begin{tabular}{ll}\n",
       " start\\_station\\_name & number\\_of\\_starts\\\\\n",
       " <chr> & <int>\\\\\n",
       "\\hline\n",
       "\t Clark St \\& Elm St        & 24002\\\\\n",
       "\t Kingsbury St \\& Kinzie St & 22898\\\\\n",
       "\t Wells St \\& Concord Ln    & 22862\\\\\n",
       "\t Wells St \\& Elm St        & 20324\\\\\n",
       "\t Dearborn St \\& Erie St    & 18861\\\\\n",
       "\t St. Clair St \\& Erie St   & 18349\\\\\n",
       "\\end{tabular}\n"
      ],
      "text/markdown": [
       "\n",
       "A tibble: 6 × 2\n",
       "\n",
       "| start_station_name &lt;chr&gt; | number_of_starts &lt;int&gt; |\n",
       "|---|---|\n",
       "| Clark St &amp; Elm St        | 24002 |\n",
       "| Kingsbury St &amp; Kinzie St | 22898 |\n",
       "| Wells St &amp; Concord Ln    | 22862 |\n",
       "| Wells St &amp; Elm St        | 20324 |\n",
       "| Dearborn St &amp; Erie St    | 18861 |\n",
       "| St. Clair St &amp; Erie St   | 18349 |\n",
       "\n"
      ],
      "text/plain": [
       "  start_station_name       number_of_starts\n",
       "1 Clark St & Elm St        24002           \n",
       "2 Kingsbury St & Kinzie St 22898           \n",
       "3 Wells St & Concord Ln    22862           \n",
       "4 Wells St & Elm St        20324           \n",
       "5 Dearborn St & Erie St    18861           \n",
       "6 St. Clair St & Erie St   18349           "
      ]
     },
     "metadata": {},
     "output_type": "display_data"
    }
   ],
   "source": [
    "# Determine the most popular start station for members\n",
    "popular_start_stations_member <- bikerides_v3 %>% \n",
    "  filter(member_casual == 'member') %>% \n",
    "  group_by(start_station_name) %>% \n",
    "  summarise(number_of_starts = n()) %>% \n",
    "  filter(start_station_name != \"\") %>% \n",
    "  arrange(- number_of_starts)\n",
    "\n",
    "head(popular_start_stations_member)\n"
   ]
  },
  {
   "cell_type": "code",
   "execution_count": 21,
   "id": "4c20eb47",
   "metadata": {
    "execution": {
     "iopub.execute_input": "2024-04-01T09:47:21.294938Z",
     "iopub.status.busy": "2024-04-01T09:47:21.292900Z",
     "iopub.status.idle": "2024-04-01T09:47:24.496395Z",
     "shell.execute_reply": "2024-04-01T09:47:24.493380Z"
    },
    "papermill": {
     "duration": 3.236054,
     "end_time": "2024-04-01T09:47:24.500398",
     "exception": false,
     "start_time": "2024-04-01T09:47:21.264344",
     "status": "completed"
    },
    "tags": []
   },
   "outputs": [
    {
     "data": {
      "text/html": [
       "<table class=\"dataframe\">\n",
       "<caption>A tibble: 6 × 2</caption>\n",
       "<thead>\n",
       "\t<tr><th scope=col>start_station_name</th><th scope=col>number_of_starts</th></tr>\n",
       "\t<tr><th scope=col>&lt;chr&gt;</th><th scope=col>&lt;int&gt;</th></tr>\n",
       "</thead>\n",
       "<tbody>\n",
       "\t<tr><td><span style=white-space:pre-wrap>Streeter Dr &amp; Grand Ave  </span></td><td>64495</td></tr>\n",
       "\t<tr><td>Millennium Park          </td><td>32269</td></tr>\n",
       "\t<tr><td><span style=white-space:pre-wrap>Michigan Ave &amp; Oak St    </span></td><td>28883</td></tr>\n",
       "\t<tr><td>Shedd Aquarium           </td><td>22596</td></tr>\n",
       "\t<tr><td>Theater on the Lake      </td><td>20657</td></tr>\n",
       "\t<tr><td>Lake Shore Dr &amp; Monroe St</td><td>19135</td></tr>\n",
       "</tbody>\n",
       "</table>\n"
      ],
      "text/latex": [
       "A tibble: 6 × 2\n",
       "\\begin{tabular}{ll}\n",
       " start\\_station\\_name & number\\_of\\_starts\\\\\n",
       " <chr> & <int>\\\\\n",
       "\\hline\n",
       "\t Streeter Dr \\& Grand Ave   & 64495\\\\\n",
       "\t Millennium Park           & 32269\\\\\n",
       "\t Michigan Ave \\& Oak St     & 28883\\\\\n",
       "\t Shedd Aquarium            & 22596\\\\\n",
       "\t Theater on the Lake       & 20657\\\\\n",
       "\t Lake Shore Dr \\& Monroe St & 19135\\\\\n",
       "\\end{tabular}\n"
      ],
      "text/markdown": [
       "\n",
       "A tibble: 6 × 2\n",
       "\n",
       "| start_station_name &lt;chr&gt; | number_of_starts &lt;int&gt; |\n",
       "|---|---|\n",
       "| Streeter Dr &amp; Grand Ave   | 64495 |\n",
       "| Millennium Park           | 32269 |\n",
       "| Michigan Ave &amp; Oak St     | 28883 |\n",
       "| Shedd Aquarium            | 22596 |\n",
       "| Theater on the Lake       | 20657 |\n",
       "| Lake Shore Dr &amp; Monroe St | 19135 |\n",
       "\n"
      ],
      "text/plain": [
       "  start_station_name        number_of_starts\n",
       "1 Streeter Dr & Grand Ave   64495           \n",
       "2 Millennium Park           32269           \n",
       "3 Michigan Ave & Oak St     28883           \n",
       "4 Shedd Aquarium            22596           \n",
       "5 Theater on the Lake       20657           \n",
       "6 Lake Shore Dr & Monroe St 19135           "
      ]
     },
     "metadata": {},
     "output_type": "display_data"
    }
   ],
   "source": [
    "# Determine the most popular start station for casual riders\n",
    "popular_start_stations_casual <- bikerides_v3 %>% \n",
    "  filter(member_casual == 'casual') %>% \n",
    "  group_by(start_station_name) %>% \n",
    "  summarise(number_of_starts = n()) %>% \n",
    "  filter(start_station_name != \"\") %>% \n",
    "  arrange(- number_of_starts)\n",
    "\n",
    "head(popular_start_stations_casual)"
   ]
  },
  {
   "cell_type": "markdown",
   "id": "26784350",
   "metadata": {
    "papermill": {
     "duration": 0.028142,
     "end_time": "2024-04-01T09:47:24.554318",
     "exception": false,
     "start_time": "2024-04-01T09:47:24.526176",
     "status": "completed"
    },
    "tags": []
   },
   "source": [
    "Key Analysis takeways:\n",
    "\n",
    "* There were more members(2584238) than casual riders(2077441) in the year 2021.\n",
    "\n",
    "* Casual riders(7247.672 mins) had a higher average ride length than members(1502.776 mins).\n",
    "\n",
    "* Casual riders had the longest ride time being 15252480 mins or 254208 hours.\n",
    "\n",
    "* The most popular day for bike sharing was Sunday.\n",
    "\n",
    "* The most popular day for casual riders was Monday with an average ride length of 8049.015 mins.\n",
    "\n",
    "* The most popular day for members was Friday with an average ride length of 1322.194 mins\n",
    "\n",
    "* The most popular month was July with 692805 rides with an average ride duration of 4833.851 mins.\n",
    "\n",
    "* The least popular month was February with 49608 rides with an average ride duration of 4420.522 mins.\n",
    "\n",
    "* The most popular start station overall was \"Streeter Dr & Grand Ave\".\n",
    "\n",
    "* The most popular start station for members was \"Clark St & Elm St\" with 24002 trips starting from here.\n",
    "\n",
    "* The most popular start station for casual riders was \"Streeter Dr & Grand Ave\" with 64495 trips starting from here."
   ]
  },
  {
   "cell_type": "markdown",
   "id": "d5dfdcaa",
   "metadata": {
    "papermill": {
     "duration": 0.025958,
     "end_time": "2024-04-01T09:47:24.606710",
     "exception": false,
     "start_time": "2024-04-01T09:47:24.580752",
     "status": "completed"
    },
    "tags": []
   },
   "source": [
    "# SHARE & ACT"
   ]
  },
  {
   "cell_type": "markdown",
   "id": "31a6ce2e",
   "metadata": {
    "papermill": {
     "duration": 0.02587,
     "end_time": "2024-04-01T09:47:24.658249",
     "exception": false,
     "start_time": "2024-04-01T09:47:24.632379",
     "status": "completed"
    },
    "tags": []
   },
   "source": [
    "I developed a visualization that clearly shows the variations in ride activity over the course of the week as well as the differences in ride patterns between casual and member cyclists after evaluating the data and obtaining insights into it."
   ]
  },
  {
   "cell_type": "markdown",
   "id": "d1e1910a",
   "metadata": {
    "papermill": {
     "duration": 0.025489,
     "end_time": "2024-04-01T09:47:24.709945",
     "exception": false,
     "start_time": "2024-04-01T09:47:24.684456",
     "status": "completed"
    },
    "tags": []
   },
   "source": [
    "**Data Visualizations in R**"
   ]
  },
  {
   "cell_type": "code",
   "execution_count": 22,
   "id": "f08373e9",
   "metadata": {
    "execution": {
     "iopub.execute_input": "2024-04-01T09:47:24.765599Z",
     "iopub.status.busy": "2024-04-01T09:47:24.763671Z",
     "iopub.status.idle": "2024-04-01T09:47:25.569608Z",
     "shell.execute_reply": "2024-04-01T09:47:25.566255Z"
    },
    "papermill": {
     "duration": 0.837853,
     "end_time": "2024-04-01T09:47:25.573315",
     "exception": false,
     "start_time": "2024-04-01T09:47:24.735462",
     "status": "completed"
    },
    "tags": []
   },
   "outputs": [
    {
     "data": {
      "image/png": "[encoded data removed]"
     },
     "metadata": {
      "image/png": {
       "height": 420,
       "width": 420
      }
     },
     "output_type": "display_data"
    }
   ],
   "source": [
    "# Visualization of the total number of riders by member type\n",
    "bikerides_v3 %>% \n",
    "  group_by(member_casual) %>% \n",
    "  summarise(total_rider_type = n()) %>% \n",
    "  ggplot(aes(x = member_casual, y = total_rider_type, fill = member_casual)) + \n",
    "  geom_col(position = \"dodge\") + geom_text(aes(label = total_rider_type, vjust = -0.25)) +\n",
    "  labs(title = \"Number of Riders: Casual vs. Member Riders\")"
   ]
  },
  {
   "cell_type": "code",
   "execution_count": 23,
   "id": "a7d87886",
   "metadata": {
    "execution": {
     "iopub.execute_input": "2024-04-01T09:47:25.630947Z",
     "iopub.status.busy": "2024-04-01T09:47:25.628910Z",
     "iopub.status.idle": "2024-04-01T09:47:26.770145Z",
     "shell.execute_reply": "2024-04-01T09:47:26.766810Z"
    },
    "papermill": {
     "duration": 1.173987,
     "end_time": "2024-04-01T09:47:26.773900",
     "exception": false,
     "start_time": "2024-04-01T09:47:25.599913",
     "status": "completed"
    },
    "tags": []
   },
   "outputs": [
    {
     "name": "stderr",
     "output_type": "stream",
     "text": [
      "\u001b[1m\u001b[22mDon't know how to automatically pick scale for object of type \u001b[34m<difftime>\u001b[39m.\n",
      "Defaulting to continuous.\n",
      "\u001b[1m\u001b[22mDon't know how to automatically pick scale for object of type \u001b[34m<difftime>\u001b[39m.\n",
      "Defaulting to continuous.\n"
     ]
    },
    {
     "data": {
      "image/png": "[encoded data removed]"
     },
     "metadata": {
      "image/png": {
       "height": 420,
       "width": 420
      }
     },
     "output_type": "display_data"
    }
   ],
   "source": [
    "# Visualization of the rider types ride duration\n",
    "\n",
    "rider_type_average_duration <- bikerides_v3 %>% \n",
    "  group_by(member_casual) %>% \n",
    "  summarize(average_ride_duration = mean(ride_length))\n",
    "\n",
    "rider_type_average_duration %>% \n",
    "  ggplot(aes(x = member_casual, y = average_ride_duration, fill = member_casual)) +\n",
    "  geom_col(position = \"dodge\") + geom_text(aes(label = average_ride_duration, vjust = -0.25)) +\n",
    "  labs(title = \"Average Ride Duration: Casual vs. Member Riders\")"
   ]
  },
  {
   "cell_type": "code",
   "execution_count": 24,
   "id": "f6a497ad",
   "metadata": {
    "execution": {
     "iopub.execute_input": "2024-04-01T09:47:26.833722Z",
     "iopub.status.busy": "2024-04-01T09:47:26.831755Z",
     "iopub.status.idle": "2024-04-01T09:47:27.534964Z",
     "shell.execute_reply": "2024-04-01T09:47:27.532917Z"
    },
    "papermill": {
     "duration": 0.735999,
     "end_time": "2024-04-01T09:47:27.537544",
     "exception": false,
     "start_time": "2024-04-01T09:47:26.801545",
     "status": "completed"
    },
    "tags": []
   },
   "outputs": [
    {
     "name": "stderr",
     "output_type": "stream",
     "text": [
      "\u001b[1m\u001b[22m`summarise()` has grouped output by 'member_casual'. You can override using the\n",
      "`.groups` argument.\n",
      "\u001b[1m\u001b[22mDon't know how to automatically pick scale for object of type \u001b[34m<difftime>\u001b[39m.\n",
      "Defaulting to continuous.\n"
     ]
    },
    {
     "data": {
      "image/png": "[encoded data removed]"
     },
     "metadata": {
      "image/png": {
       "height": 420,
       "width": 420
      }
     },
     "output_type": "display_data"
    }
   ],
   "source": [
    "# Visualization of the usage by members and casual riders by the weekday\n",
    "\n",
    "bikerides_v3 %>% \n",
    "  group_by(member_casual, day_of_week) %>% \n",
    "  summarise(number_of_rides = n(),average_duration = mean(ride_length)) %>% \n",
    "  arrange(member_casual, day_of_week)  %>% \n",
    "  ggplot(aes(x = day_of_week, y = average_duration, fill = member_casual)) +\n",
    "  geom_col(position = \"dodge\") +\n",
    "  labs(title = \"Average Ride Duration by Day of Week: Casual vs. Member Riders\")"
   ]
  },
  {
   "cell_type": "code",
   "execution_count": 25,
   "id": "df6151a2",
   "metadata": {
    "execution": {
     "iopub.execute_input": "2024-04-01T09:47:27.600102Z",
     "iopub.status.busy": "2024-04-01T09:47:27.598010Z",
     "iopub.status.idle": "2024-04-01T09:47:28.280139Z",
     "shell.execute_reply": "2024-04-01T09:47:28.277865Z"
    },
    "papermill": {
     "duration": 0.715493,
     "end_time": "2024-04-01T09:47:28.282777",
     "exception": false,
     "start_time": "2024-04-01T09:47:27.567284",
     "status": "completed"
    },
    "tags": []
   },
   "outputs": [
    {
     "name": "stderr",
     "output_type": "stream",
     "text": [
      "\u001b[1m\u001b[22m`summarise()` has grouped output by 'member_casual'. You can override using the\n",
      "`.groups` argument.\n"
     ]
    },
    {
     "data": {
      "image/png": "[encoded data removed]"
     },
     "metadata": {
      "image/png": {
       "height": 420,
       "width": 420
      }
     },
     "output_type": "display_data"
    }
   ],
   "source": [
    "# Visualization of the number of trips by members and casual riders by the weekday\n",
    "\n",
    "\n",
    "bikerides_v3 %>% \n",
    "  group_by(member_casual, day_of_week) %>% \n",
    "  summarise(number_of_rides = n(),average_duration = mean(ride_length)) %>% \n",
    "  arrange(member_casual, day_of_week)  %>% \n",
    "  ggplot(aes(x = day_of_week, y = number_of_rides, fill = member_casual)) +\n",
    "  geom_col(position = \"dodge\") +\n",
    "  labs(title = \"Number of Rides by Day of Week: Casual vs. Member Riders\")"
   ]
  },
  {
   "cell_type": "code",
   "execution_count": 26,
   "id": "840259a8",
   "metadata": {
    "execution": {
     "iopub.execute_input": "2024-04-01T09:47:28.346414Z",
     "iopub.status.busy": "2024-04-01T09:47:28.344394Z",
     "iopub.status.idle": "2024-04-01T09:47:29.633954Z",
     "shell.execute_reply": "2024-04-01T09:47:29.631500Z"
    },
    "papermill": {
     "duration": 1.325572,
     "end_time": "2024-04-01T09:47:29.637584",
     "exception": false,
     "start_time": "2024-04-01T09:47:28.312012",
     "status": "completed"
    },
    "tags": []
   },
   "outputs": [
    {
     "name": "stderr",
     "output_type": "stream",
     "text": [
      "\u001b[1m\u001b[22m`summarise()` has grouped output by 'member_casual'. You can override using the\n",
      "`.groups` argument.\n",
      "\u001b[1m\u001b[22mDon't know how to automatically pick scale for object of type \u001b[34m<difftime>\u001b[39m.\n",
      "Defaulting to continuous.\n"
     ]
    },
    {
     "data": {
      "image/png": "[encoded data removed]"
     },
     "metadata": {
      "image/png": {
       "height": 420,
       "width": 420
      }
     },
     "output_type": "display_data"
    }
   ],
   "source": [
    "# Visualization of the usage by members and casual riders by the month\n",
    "\n",
    "bikerides_v3$month <- ordered(bikerides_v3$month, levels=c(\"Jan\", \"Feb\", \"Mar\", \"Apr\", \"May\", \"Jun\", \"Jul\", \"Aug\", \"Sep\", \"Oct\", \"Nov\", \"Dec\"))\n",
    "\n",
    "bikerides_v3 %>% \n",
    "  group_by(member_casual, month) %>% \n",
    "  summarise(number_of_rides = n(),average_duration = mean(ride_length) ) %>% \n",
    "  arrange(member_casual, month)  %>% \n",
    "  ggplot(aes(x = month, y = average_duration, fill = member_casual)) +\n",
    "  geom_col(position = \"dodge\") +\n",
    "  geom_text(aes(label = number_of_rides, angle = 90)) +\n",
    "  facet_wrap(~member_casual) + \n",
    "  labs(title = \"Average Ride Duration by Month: Casual vs. Member Riders\")"
   ]
  },
  {
   "cell_type": "code",
   "execution_count": 27,
   "id": "17870f44",
   "metadata": {
    "execution": {
     "iopub.execute_input": "2024-04-01T09:47:29.706169Z",
     "iopub.status.busy": "2024-04-01T09:47:29.704086Z",
     "iopub.status.idle": "2024-04-01T09:47:30.283619Z",
     "shell.execute_reply": "2024-04-01T09:47:30.281338Z"
    },
    "papermill": {
     "duration": 0.616867,
     "end_time": "2024-04-01T09:47:30.286452",
     "exception": false,
     "start_time": "2024-04-01T09:47:29.669585",
     "status": "completed"
    },
    "tags": []
   },
   "outputs": [
    {
     "name": "stderr",
     "output_type": "stream",
     "text": [
      "\u001b[1m\u001b[22m`summarise()` has grouped output by 'member_casual'. You can override using the\n",
      "`.groups` argument.\n"
     ]
    },
    {
     "data": {
      "image/png": "[encoded data removed]"
     },
     "metadata": {
      "image/png": {
       "height": 420,
       "width": 420
      }
     },
     "output_type": "display_data"
    }
   ],
   "source": [
    "# Visualization of the number of trips by members and casual riders by the month\n",
    "\n",
    "bikerides_v3 %>% \n",
    "  group_by(member_casual, month) %>% \n",
    "  summarise(number_of_rides = n()) %>% \n",
    "  arrange(member_casual, month)  %>% \n",
    "  ggplot(aes(x = month, y = number_of_rides, fill = member_casual)) +\n",
    "  geom_col(position = \"dodge\") +\n",
    "  geom_text(aes(label = number_of_rides, angle = 90)) +\n",
    "  labs(title = \"Number of Rides by Month: Casual vs. Member Riders\")\n"
   ]
  },
  {
   "cell_type": "code",
   "execution_count": 28,
   "id": "0d672fd4",
   "metadata": {
    "execution": {
     "iopub.execute_input": "2024-04-01T09:47:30.357966Z",
     "iopub.status.busy": "2024-04-01T09:47:30.355936Z",
     "iopub.status.idle": "2024-04-01T09:47:31.355449Z",
     "shell.execute_reply": "2024-04-01T09:47:31.351898Z"
    },
    "papermill": {
     "duration": 1.039869,
     "end_time": "2024-04-01T09:47:31.359784",
     "exception": false,
     "start_time": "2024-04-01T09:47:30.319915",
     "status": "completed"
    },
    "tags": []
   },
   "outputs": [
    {
     "name": "stderr",
     "output_type": "stream",
     "text": [
      "\u001b[1m\u001b[22m`summarise()` has grouped output by 'member_casual'. You can override using the\n",
      "`.groups` argument.\n"
     ]
    },
    {
     "data": {
      "image/png": "[encoded data removed]"
     },
     "metadata": {
      "image/png": {
       "height": 420,
       "width": 420
      }
     },
     "output_type": "display_data"
    }
   ],
   "source": [
    "bikerides_v3 %>%\n",
    "  group_by(member_casual, month) %>%\n",
    "  summarise(number_of_rides = n()) %>%\n",
    "  ggplot(aes(x = month, y = number_of_rides, color = member_casual, group = member_casual)) +\n",
    "  geom_line() +\n",
    "  labs(title = \"Number of Rides per Month: Casual vs. Member\", x = \"Month\", y = \"Number of Rides\")\n",
    "\n"
   ]
  },
  {
   "cell_type": "markdown",
   "id": "bcf6df14",
   "metadata": {
    "papermill": {
     "duration": 0.035372,
     "end_time": "2024-04-01T09:47:31.430458",
     "exception": false,
     "start_time": "2024-04-01T09:47:31.395086",
     "status": "completed"
    },
    "tags": []
   },
   "source": [
    "**Key Insights**\n",
    "\n",
    "* The ride behaviors of casual and member riders were clearly different. Over the course of the year, member riders showed regular and consistent riding habits, indicating a higher degree of involvement and loyalty. Conversely, casual riders' riding patterns were more irregular and erratic, frequently spiking on weekends and holidays.\n",
    "\n",
    "* Bike ride seasonality. I saw a spike in ride activity in the summer, which suggests a direct link between good weather and more people riding bikes. This research supports the hunch that when the weather is nice, people are more likely to ride their bikes for pleasure and transit.\n",
    "\n",
    "* Compared to casual riders, member riders consistently showed shorter average ride durations. This conclusion might be explained by the fact that frequent users of the bike share program are more adept at navigating the city and finishing their journeys faster. On the other hand, casual riders typically take lengthier rides since they might not be as familiar with the system."
   ]
  },
  {
   "cell_type": "markdown",
   "id": "97cdaa7b",
   "metadata": {
    "papermill": {
     "duration": 0.033998,
     "end_time": "2024-04-01T09:47:31.499072",
     "exception": false,
     "start_time": "2024-04-01T09:47:31.465074",
     "status": "completed"
    },
    "tags": []
   },
   "source": [
    "**TOP 3 RECOMMENDATIONS FROM DATA-DRIVEN INSIGHTS**\n",
    "\n",
    "1. Target casual users who are most likely to be annual members but have not yet purchased an annual subscription. The most obvious example of this is during the peak commute times of the workweek (e.g. 8:00 am to 5:00 pm), when both groups reach their highest ride counts. Marketing should focus on these casual riders who use Cyclistic bikes to commute to/from work. It should emphasize the value of using a membership rather than a one ride/day pass, and highlight the lower rates Cyclistic members get for their e-bikes. Since casual users tend to use e-bikes more during those commute times, we should implement ad placements at locations and stations where those workweek commutes take place.\n",
    "\n",
    "2. Create a marketing campaign targeting casual users who are frequently using Cyclistic bikes for leisure and exercise. These customers are most likely who are taking rides when times/conditions are ideal; weekends when they're off work, months when weather is suitable for riding. Therefore the timing of rolling out this plan is key. It is recommended to start this campaign at the begining of Spring, when the weather is warming up and there are many months ahead of ideal riding conditions. Emphasize the healthy lifestyle that is associated with Cyclistic as a brand. Along with on the ground marketing, use social media for targeted ad placements in order to successfully reach this specific customer segment.\n",
    "\n",
    "3. Implement a membership trial period so that infrequent riders can benefit from annual membership without having to pay for the entire year up front. In order to persuade infrequent riders to upgrade to an annual membership, this trial period may include cheaper rates or extra benefits. It lowers obstacles to entrance and raises the possibility of conversion by offering a low-risk way to enjoy the benefits."
   ]
  },
  {
   "cell_type": "markdown",
   "id": "00a6f0e9",
   "metadata": {
    "papermill": {
     "duration": 0.035073,
     "end_time": "2024-04-01T09:47:31.568405",
     "exception": false,
     "start_time": "2024-04-01T09:47:31.533332",
     "status": "completed"
    },
    "tags": []
   },
   "source": [
    "This concludes my case study of Bike Share using the 6 Phase Analysis methodology."
   ]
  }
 ],
 "metadata": {
  "kaggle": {
   "accelerator": "none",
   "dataSources": [
    {
     "datasetId": 4707877,
     "sourceId": 7996029,
     "sourceType": "datasetVersion"
    }
   ],
   "dockerImageVersionId": 30530,
   "isGpuEnabled": false,
   "isInternetEnabled": false,
   "language": "r",
   "sourceType": "notebook"
  },
  "kernelspec": {
   "display_name": "R",
   "language": "R",
   "name": "ir"
  },
  "language_info": {
   "codemirror_mode": "r",
   "file_extension": ".r",
   "mimetype": "text/x-r-source",
   "name": "R",
   "pygments_lexer": "r",
   "version": "4.0.5"
  },
  "papermill": {
   "default_parameters": {},
   "duration": 214.651314,
   "end_time": "2024-04-01T09:47:32.031513",
   "environment_variables": {},
   "exception": null,
   "input_path": "__notebook__.ipynb",
   "output_path": "__notebook__.ipynb",
   "parameters": {},
   "start_time": "2024-04-01T09:43:57.380199",
   "version": "2.4.0"
  }
 },
 "nbformat": 4,
 "nbformat_minor": 5
}
